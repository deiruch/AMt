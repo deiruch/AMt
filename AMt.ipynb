{
 "cells": [
  {
   "cell_type": "code",
   "execution_count": null,
   "metadata": {},
   "outputs": [],
   "source": [
    "#https://www.dummies.com/programming/python/plotting-a-sound-file-in-ipython/\n",
    "import matplotlib.pyplot as plt\n",
    "from scipy.io import wavfile as wav\n",
    "from scipy.fftpack import fft\n",
    "import numpy as np\n",
    "import gurobipy\n",
    "from IPython.display import Audio"
   ]
  },
  {
   "cell_type": "code",
   "execution_count": null,
   "metadata": {
    "scrolled": false
   },
   "outputs": [],
   "source": [
    "# Read WAV File\n",
    "wav_file = 'audiofile/G53-40100-1111-235.wav'\n",
    "rate, data = wav.read(wav_file)\n",
    "file_length_in_seconds = len(data)/rate\n",
    "\n",
    "wav_file1= 'audiofile/1-E1-Major 07.wav'\n",
    "rate1, data1 = wav.read(wav_file1)\n",
    "file_length_in_seconds1 = len(data1)/rate1\n",
    "\n",
    "%matplotlib inline\n",
    "plt.figure(figsize=(20,5))\n",
    "plt.plot(data)\n",
    "plt.title('wav_file')\n",
    "#plt.show() #not needed if %matplotlib inline is already initialized\n",
    "plt.figure(figsize=(20,5))\n",
    "plt.plot(data1)\n",
    "plt.title('wav_file1')"
   ]
  },
  {
   "cell_type": "code",
   "execution_count": null,
   "metadata": {},
   "outputs": [],
   "source": [
    "Audio(wav_file)"
   ]
  },
  {
   "cell_type": "code",
   "execution_count": null,
   "metadata": {},
   "outputs": [],
   "source": [
    "Audio(wav_file1)"
   ]
  },
  {
   "cell_type": "markdown",
   "metadata": {},
   "source": [
    "## FFT"
   ]
  },
  {
   "cell_type": "code",
   "execution_count": null,
   "metadata": {},
   "outputs": [],
   "source": [
    "# Function for transforming a signal with fourier\n",
    "def fourier_trans(data, rate, begin_time, end_time): \n",
    "    # initialising variables\n",
    "    tp_count = len(data)\n",
    "    values = np.arange(int(tp_count/2))\n",
    "    time_period = tp_count/rate\n",
    "    frequencies = values/time_period\n",
    "    \n",
    "    #at what intervals time points are sampled\n",
    "    sampling_interval = 1/rate;\n",
    "    \n",
    "    #time points\n",
    "    time = np.arange(begin_time, end_time, sampling_interval);\n",
    "    \n",
    "    #Frequency domain representation\n",
    "    fourier_transform = fft(data)/tp_count #normalized the amplitude\n",
    "    fourier_transform = fourier_transform[range(int(len(data)/2))] #exclude sampling frequency\n",
    "    \n",
    "    return frequencies, abs(fourier_transform)"
   ]
  },
  {
   "cell_type": "code",
   "execution_count": null,
   "metadata": {},
   "outputs": [],
   "source": [
    "freq, fourier = fourier_trans(data, rate, 0, file_length_in_seconds)"
   ]
  },
  {
   "cell_type": "code",
   "execution_count": null,
   "metadata": {},
   "outputs": [],
   "source": [
    "freq1, fourier1 = fourier_trans(data1, rate1, 0, file_length_in_seconds1)"
   ]
  },
  {
   "cell_type": "code",
   "execution_count": null,
   "metadata": {},
   "outputs": [],
   "source": [
    "# Frequency domain representation\n",
    "def plot_freq_domain(freq, fourier,name):\n",
    "    plt.figure(figsize=(20,5))\n",
    "    plt.plot(freq, fourier)\n",
    "    plt.xlabel('Frequency in Hz')\n",
    "    plt.ylabel('Amplitude')\n",
    "    plt.xlim(0, 1300)\n",
    "    plt.title(name)\n",
    "    plt.show()"
   ]
  },
  {
   "cell_type": "code",
   "execution_count": null,
   "metadata": {},
   "outputs": [],
   "source": [
    "plot_freq_domain(freq,fourier, wav_file)"
   ]
  },
  {
   "cell_type": "code",
   "execution_count": null,
   "metadata": {},
   "outputs": [],
   "source": [
    "plot_freq_domain(freq1,fourier1, wav_file1)"
   ]
  },
  {
   "cell_type": "code",
   "execution_count": null,
   "metadata": {},
   "outputs": [],
   "source": [
    "ampl_const = 200\n",
    "fourier_list = list(fourier)\n",
    "ampl_peaks = list(filter(lambda i: i > 200, fourier_list))\n",
    "ampl_peaks"
   ]
  },
  {
   "cell_type": "code",
   "execution_count": null,
   "metadata": {},
   "outputs": [],
   "source": [
    "for x in range(len(ampl_peaks)):\n",
    "    index = fourier_list.index(ampl_peaks[x])\n",
    "    print('Frequenz bei Index {0}: {1}Hz mit einer Amplitude von: {2:0.2f}dB'\n",
    "          .format(index, freq[index], ampl_peaks[x]))"
   ]
  },
  {
   "cell_type": "markdown",
   "metadata": {},
   "source": [
    "# Chord Approximation"
   ]
  },
  {
   "cell_type": "code",
   "execution_count": null,
   "metadata": {},
   "outputs": [],
   "source": [
    "# Read wav-Files\n",
    "rate_40, data_40 = wav.read('audiofile/G53-40100-1111-00001.wav')\n",
    "rate_41, data_41 = wav.read('audiofile/G53-41101-1111-00002.wav')\n",
    "rate_42, data_42 = wav.read('audiofile/G53-42102-1111-00003.wav')\n",
    " \n",
    "rate_45, data_45 = wav.read('audiofile/G53-45200-1111-00014.wav')\n",
    "rate_46, data_46 = wav.read('audiofile/G53-46201-1111-00015.wav')\n",
    "rate_47, data_47 = wav.read('audiofile/G53-47202-1111-00016.wav')\n",
    " \n",
    "rate_50, data_50 = wav.read('audiofile/G53-50300-1111-00027.wav')\n",
    "rate_51, data_51 = wav.read('audiofile/G53-51301-1111-00028.wav')\n",
    "rate_52, data_52 = wav.read('audiofile/G53-52302-1111-00029.wav')\n",
    " \n",
    "rate_55, data_55 = wav.read('audiofile/G53-55400-1111-00040.wav')\n",
    "rate_56, data_56 = wav.read('audiofile/G53-56401-1111-00041.wav')\n",
    "rate_57, data_57 = wav.read('audiofile/G53-57402-1111-00042.wav')\n",
    " \n",
    "rate_59, data_59 = wav.read('audiofile/G53-59500-1111-00053.wav')\n",
    "rate_60, data_60 = wav.read('audiofile/G53-60501-1111-00054.wav')\n",
    "rate_61, data_61 = wav.read('audiofile/G53-61502-1111-00055.wav')\n",
    " \n",
    "rate_64, data_64 = wav.read('audiofile/G53-64600-1111-00066.wav')\n",
    "rate_65, data_65 = wav.read('audiofile/G53-65601-1111-00067.wav')\n",
    "rate_66, data_66 = wav.read('audiofile/G53-66602-1111-00068.wav')\n",
    " \n",
    "rate_chord, data_chord = wav.read('audiofile/1-E1-Major 00.wav')"
   ]
  },
  {
   "cell_type": "code",
   "execution_count": null,
   "metadata": {},
   "outputs": [],
   "source": [
    "_, mischsignal = fourier_trans(data_chord, rate_chord, 0, 2.5) \n",
    " \n",
    "# 1. Saite Bund 0 - 2\n",
    "_, ton_40      = fourier_trans(data_40, rate_40, 0, 2.5)\n",
    "_, ton_41      = fourier_trans(data_41, rate_41, 0, 2.5)\n",
    "_, ton_42      = fourier_trans(data_42, rate_42, 0, 2.5)\n",
    " \n",
    "# 2. Saite Bund 0 - 2\n",
    "_, ton_45      = fourier_trans(data_45, rate_45, 0, 2.5)\n",
    "_, ton_46      = fourier_trans(data_46, rate_46, 0, 2.5)\n",
    "_, ton_47      = fourier_trans(data_47, rate_47, 0, 2.5)\n",
    " \n",
    "# 3. Saite Bund 0 - 2\n",
    "_, ton_50      = fourier_trans(data_50, rate_50, 0, 2.5)\n",
    "_, ton_51      = fourier_trans(data_51, rate_51, 0, 2.5)\n",
    "_, ton_52      = fourier_trans(data_52, rate_42, 0, 2.5)\n",
    " \n",
    "# 4. Saite Bund 0 - 2\n",
    "_, ton_55      = fourier_trans(data_40, rate_40, 0, 2.5)\n",
    "_, ton_56      = fourier_trans(data_41, rate_41, 0, 2.5)\n",
    "_, ton_57      = fourier_trans(data_42, rate_42, 0, 2.5)\n",
    " \n",
    "# 5. Saite Bund 0 - 2\n",
    "_, ton_59      = fourier_trans(data_40, rate_40, 0, 2.5)\n",
    "_, ton_60      = fourier_trans(data_41, rate_41, 0, 2.5)\n",
    "_, ton_61      = fourier_trans(data_42, rate_42, 0, 2.5)\n",
    " \n",
    "# 6. Saite Bund 0 - 2\n",
    "_, ton_64      = fourier_trans(data_40, rate_40, 0, 2.5)\n",
    "_, ton_65      = fourier_trans(data_41, rate_41, 0, 2.5)\n",
    "_, ton_66      = fourier_trans(data_42, rate_42, 0, 2.5)\n",
    " "
   ]
  },
  {
   "cell_type": "code",
   "execution_count": null,
   "metadata": {},
   "outputs": [],
   "source": [
    "# Build model\n",
    "m = Model()\n",
    " \n",
    "lamb_40 = m.addVar(lb = 0, vtype = GRB.CONTINUOUS, name = 'lamb_40')\n",
    "lamb_41 = m.addVar(lb = 0, vtype = GRB.CONTINUOUS, name = 'lamb_41')\n",
    "lamb_42 = m.addVar(lb = 0, vtype = GRB.CONTINUOUS, name = 'lamb_42')\n",
    "lamb_45 = m.addVar(lb = 0, vtype = GRB.CONTINUOUS, name = 'lamb_45')\n",
    "lamb_46 = m.addVar(lb = 0, vtype = GRB.CONTINUOUS, name = 'lamb_46')\n",
    "lamb_47 = m.addVar(lb = 0, vtype = GRB.CONTINUOUS, name = 'lamb_47')\n",
    "lamb_50 = m.addVar(lb = 0, vtype = GRB.CONTINUOUS, name = 'lamb_50')\n",
    "lamb_51 = m.addVar(lb = 0, vtype = GRB.CONTINUOUS, name = 'lamb_51')\n",
    "lamb_52 = m.addVar(lb = 0, vtype = GRB.CONTINUOUS, name = 'lamb_52')\n",
    "lamb_55 = m.addVar(lb = 0, vtype = GRB.CONTINUOUS, name = 'lamb_55')\n",
    "lamb_56 = m.addVar(lb = 0, vtype = GRB.CONTINUOUS, name = 'lamb_56')\n",
    "lamb_57 = m.addVar(lb = 0, vtype = GRB.CONTINUOUS, name = 'lamb_57')\n",
    "lamb_59 = m.addVar(lb = 0, vtype = GRB.CONTINUOUS, name = 'lamb_59')\n",
    "lamb_60 = m.addVar(lb = 0, vtype = GRB.CONTINUOUS, name = 'lamb_60')\n",
    "lamb_61 = m.addVar(lb = 0, vtype = GRB.CONTINUOUS, name = 'lamb_61')\n",
    "lamb_64 = m.addVar(lb = 0, vtype = GRB.CONTINUOUS, name = 'lamb_64')\n",
    "lamb_65 = m.addVar(lb = 0, vtype = GRB.CONTINUOUS, name = 'lamb_65')\n",
    "lamb_66 = m.addVar(lb = 0, vtype = GRB.CONTINUOUS, name = 'lamb_66')"
   ]
  },
  {
   "cell_type": "code",
   "execution_count": null,
   "metadata": {},
   "outputs": [],
   "source": [
    "# Optimize Signal\n",
    "deviation = 0\n",
    " \n",
    "for sgn in range(len(mischsignal)):\n",
    "    approxi_sgn = ( lamb_40*ton_40[sgn] +\n",
    "                    lamb_41*ton_41[sgn] +\n",
    "                    lamb_42*ton_42[sgn] +\n",
    "                    lamb_45*ton_45[sgn] +\n",
    "                    lamb_46*ton_46[sgn] +\n",
    "                    lamb_47*ton_47[sgn] +\n",
    "                    lamb_50*ton_50[sgn] +\n",
    "                    lamb_51*ton_51[sgn] +\n",
    "                    lamb_52*ton_52[sgn] +\n",
    "                    lamb_55*ton_55[sgn] +\n",
    "                    lamb_56*ton_56[sgn] +\n",
    "                    lamb_57*ton_57[sgn] +\n",
    "                    lamb_59*ton_59[sgn] +\n",
    "                    lamb_60*ton_60[sgn] +\n",
    "                    lamb_61*ton_61[sgn] +\n",
    "                    lamb_64*ton_64[sgn] +\n",
    "                    lamb_65*ton_65[sgn] +\n",
    "                    lamb_66*ton_66[sgn])\n",
    "   \n",
    "    deviation += ((mischsignal[sgn] - approxi_sgn)*(mischsignal[sgn] - approxi_sgn))\n",
    "\n",
    "m.setObjective(deviation, GRB.MINIMIZE)\n",
    "m.optimize()\n",
    " \n",
    "for v in m.getVars():\n",
    "    print('%s: %g' % (v.varName, v.x))"
   ]
  }
 ],
 "metadata": {
  "kernelspec": {
   "display_name": "Python 3",
   "language": "python",
   "name": "python3"
  },
  "language_info": {
   "codemirror_mode": {
    "name": "ipython",
    "version": 3
   },
   "file_extension": ".py",
   "mimetype": "text/x-python",
   "name": "python",
   "nbconvert_exporter": "python",
   "pygments_lexer": "ipython3",
   "version": "3.7.3"
  }
 },
 "nbformat": 4,
 "nbformat_minor": 2
}
