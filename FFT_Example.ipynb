{
 "cells": [
  {
   "cell_type": "code",
   "execution_count": null,
   "metadata": {},
   "outputs": [],
   "source": [
    "import numpy as np\n",
    "import matplotlib.pyplot as plt\n",
    "from scipy.io import wavfile as wav"
   ]
  },
  {
   "cell_type": "markdown",
   "metadata": {},
   "source": [
    "https://pythontic.com/visualization/signals/fouriertransform_fft"
   ]
  },
  {
   "cell_type": "code",
   "execution_count": null,
   "metadata": {},
   "outputs": [],
   "source": [
    "# Python example - Fourier transform using numpy.fft method\n",
    "import numpy as np\n",
    "import matplotlib.pyplot as plotter\n",
    " \n",
    "# How many time points are needed i,e., Sampling Frequency\n",
    "samplingFrequency   = 100;\n",
    "\n",
    "# At what intervals time points are sampled\n",
    "samplingInterval       = 1 / samplingFrequency;\n",
    "\n",
    "# Begin time period of the signals\n",
    "beginTime           = 0;\n",
    "\n",
    "# End time period of the signals\n",
    "endTime             = 10; \n",
    "\n",
    "# Frequency of the signals (in Hz)\n",
    "signal1Frequency     = 1;\n",
    "signal2Frequency     = 4;\n",
    "signal3Frequency     = 3;\n",
    "\n",
    "#Amplitude of the signals (in dB)\n",
    "signal1Amplitude     = 2;\n",
    "signal2Amplitude     = 1.5;\n",
    "signal3Amplitude     = 1;\n",
    "\n",
    "# Time points\n",
    "time        = np.arange(beginTime, endTime, samplingInterval);\n",
    "\n",
    "# Create two sine waves\n",
    "signal1 = signal1Amplitude*np.sin(2*np.pi*signal1Frequency*time)\n",
    "signal2 = signal2Amplitude*np.sin(2*np.pi*signal2Frequency*time)\n",
    "signal3 = signal3Amplitude*np.sin(2*np.pi*signal3Frequency*time)\n",
    "\n",
    "# Create subplot\n",
    "figure, axis = plotter.subplots(5, 1)\n",
    "plotter.subplots_adjust(hspace=1) \n",
    "\n",
    "# Time domain representation for sine wave 1\n",
    "axis[0].set_title('Sine wave with a frequency of 1 Hz')\n",
    "axis[0].plot(time, signal1)\n",
    "axis[0].set_xlabel('Time')\n",
    "axis[0].set_ylabel('Amplitude')\n",
    "\n",
    "# Time domain representation for sine wave 2\n",
    "axis[1].set_title('Sine wave with a frequency of 2 Hz')\n",
    "axis[1].plot(time, signal2)\n",
    "axis[1].set_xlabel('Time')\n",
    "axis[1].set_ylabel('Amplitude')\n",
    "\n",
    "# Time domain representation for sine wave 3\n",
    "axis[2].set_title('Sine wave with a frequency of 3 Hz')\n",
    "axis[2].plot(time, signal3)\n",
    "axis[2].set_xlabel('Time')\n",
    "axis[2].set_ylabel('Amplitude')\n",
    " \n",
    "# Add the sine waves\n",
    "signal = signal1 + signal2 + signal3\n",
    "\n",
    "# Time domain representation of the resultant sine wave\n",
    "axis[3].set_title('Sine wave with multiple frequencies')\n",
    "axis[3].plot(time, signal)\n",
    "axis[3].set_xlabel('Time')\n",
    "axis[3].set_ylabel('Amplitude')\n",
    "\n",
    "# Frequency domain representation\n",
    "fourierTransform = np.fft.fft(signal)/len(signal)           # Normalize amplitude\n",
    "fourierTransform = fourierTransform[range(int(len(signal)/2))] # Exclude sampling frequency\n",
    "\n",
    "tpCount     = len(signal)\n",
    "values      = np.arange(int(tpCount/2))\n",
    "timePeriod  = tpCount/samplingFrequency\n",
    "frequencies = values/timePeriod\n",
    " \n",
    "# Frequency domain representation\n",
    "axis[4].set_title('Fourier transform depicting the frequency components')\n",
    "axis[4].plot(frequencies, abs(fourierTransform))\n",
    "axis[4].set_xlabel('Frequency')\n",
    "axis[4].set_ylabel('Amplitude')\n",
    "\n",
    "plotter.show()"
   ]
  },
  {
   "cell_type": "code",
   "execution_count": null,
   "metadata": {},
   "outputs": [],
   "source": [
    "plt.figure(figsize=(20,5))\n",
    "plt.plot(frequencies, abs(fourierTransform))\n",
    "plt.xlim(0, 5)\n",
    "plt.xlabel('Frequency (Hz)')\n",
    "plt.ylabel('Amplitude')"
   ]
  },
  {
   "cell_type": "code",
   "execution_count": null,
   "metadata": {},
   "outputs": [],
   "source": [
    "index1 = 10\n",
    "index2 = 20\n",
    "index3 = 30\n",
    "\n",
    "ampl1 = abs(fourierTransform[index1])\n",
    "ampl2 = abs(fourierTransform[index2])\n",
    "ampl3 = abs(fourierTransform[index3])\n",
    "print('Amplitude bei Index {}: {}'.format(index1, ampl1))\n",
    "print('Amplitude bei Index {}: {}'.format(index2, ampl2))\n",
    "print('Amplitude bei Index {}: {}'.format(index3, ampl3))"
   ]
  },
  {
   "cell_type": "code",
   "execution_count": null,
   "metadata": {},
   "outputs": [],
   "source": [
    "print('Frequenz bei Index {}: {}Hz'.format(index1, frequencies[index1]))\n",
    "print('Frequenz bei Index {}: {}Hz'.format(index2, frequencies[index2]))\n",
    "print('Frequenz bei Index {}: {}Hz'.format(index3, frequencies[index3]))"
   ]
  },
  {
   "cell_type": "code",
   "execution_count": null,
   "metadata": {},
   "outputs": [],
   "source": [
    "fourierList = list(abs(fourierTransform))\n",
    "amplPeaks = list(filter(lambda i: i > 0.2, fourierList))\n",
    "amplPeaks"
   ]
  },
  {
   "cell_type": "code",
   "execution_count": null,
   "metadata": {},
   "outputs": [],
   "source": [
    "for x in range(len(amplPeaks)):\n",
    "    index = fourierList.index(amplPeaks[x])\n",
    "    print('Frequenz bei Index {0}: {1}Hz mit einer Amplitude von: {2:0.2f}dB'\n",
    "          .format(index, frequencies[index], amplPeaks[x]))"
   ]
  },
  {
   "cell_type": "code",
   "execution_count": null,
   "metadata": {},
   "outputs": [],
   "source": [
    "plt.figure(figsize=(20,5))\n",
    "plt.plot(time, signal)\n",
    "plt.xlabel('Frequency (Hz)')\n",
    "plt.ylabel('Amplitude')"
   ]
  },
  {
   "cell_type": "code",
   "execution_count": null,
   "metadata": {},
   "outputs": [],
   "source": []
  }
 ],
 "metadata": {
  "kernelspec": {
   "display_name": "Python 3",
   "language": "python",
   "name": "python3"
  },
  "language_info": {
   "codemirror_mode": {
    "name": "ipython",
    "version": 3
   },
   "file_extension": ".py",
   "mimetype": "text/x-python",
   "name": "python",
   "nbconvert_exporter": "python",
   "pygments_lexer": "ipython3",
   "version": "3.7.4"
  }
 },
 "nbformat": 4,
 "nbformat_minor": 2
}
