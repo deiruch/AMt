{
 "cells": [
  {
   "cell_type": "code",
   "execution_count": null,
   "metadata": {},
   "outputs": [],
   "source": [
    "from gurobipy import *\n",
    "import matplotlib.pyplot as pyplot"
   ]
  },
  {
   "cell_type": "code",
   "execution_count": null,
   "metadata": {},
   "outputs": [],
   "source": [
    "m = Model()\n",
    "v0 = m.addVar()\n",
    "v1 = m.addVar()\n",
    "m.update()\n",
    "m.addConstr(v0-v1 <= 4)\n",
    "m.addConstr(v0 + v1 <= 4)\n",
    "m.addConstr(-0.25*v0 + v1 <= 1)\n",
    "m.setObjective(v1, GRB.MAXIMIZE)\n",
    "m.params.outputflag = 0\n",
    "m.optimize()"
   ]
  },
  {
   "cell_type": "code",
   "execution_count": null,
   "metadata": {},
   "outputs": [],
   "source": [
    "pyplot.plot([0,4], [0,4])\n",
    "pyplot.plot([4,0], [0,4])\n",
    "pyplot.plot([0,4], [1,2])\n",
    "pyplot.plot([v0.x], [v1.x], 'ro')\n",
    "pyplot.show()"
   ]
  },
  {
   "cell_type": "markdown",
   "metadata": {},
   "source": [
    "# Lineare Programmierung\n",
    "<br>https://www.youtube.com/watch?v=p_-MQzeFlh0\n",
    "<br>\n",
    "<br> Maximieren Sie: Z = x2 + 2 * x1\n",
    "<br>\n",
    "<br> Nebenbedingungen:\n",
    "<br> 1. x1 >= 0\n",
    "<br> 2. x2 <= 6 + x1\n",
    "<br> 3. x2 <= 5 + x1 * 1/4\n",
    "<br> 4. x2 <= 34/3 - x1 * 4/3\n",
    "<br> 5. x2 >= -4 + x1 * 1/5"
   ]
  },
  {
   "cell_type": "code",
   "execution_count": null,
   "metadata": {},
   "outputs": [],
   "source": [
    "m = Model()\n",
    "x1 = m.addVar()\n",
    "x2 = m.addVar(lb=-4)\n",
    "\n",
    "z = x2 + 2*x1\n",
    "m.update()\n",
    "\n",
    "m.addConstr(x1 >= 0)\n",
    "m.addConstr(x2 <= 6 + x1)\n",
    "m.addConstr(x2 <= 5 + x1*1/4)\n",
    "m.addConstr(x2 <= 34/3 - x1*4/3)\n",
    "m.addConstr(x2 >= -4 + x1*1/5)\n",
    "\n",
    "m.setObjective(z, GRB.MAXIMIZE)\n",
    "m.optimize()"
   ]
  },
  {
   "cell_type": "code",
   "execution_count": null,
   "metadata": {},
   "outputs": [],
   "source": [
    "pyplot.plot([0,6], [6,13])\n",
    "pyplot.plot([0,16], [5,9])\n",
    "pyplot.plot([0,10], [11,-2])\n",
    "pyplot.plot([0,20], [-4,0])\n",
    "pyplot.plot([x1.x], [x2.x], 'ro')\n",
    "pyplot.xlabel('x1')\n",
    "pyplot.ylabel('x2')\n",
    "pyplot.show()"
   ]
  },
  {
   "cell_type": "code",
   "execution_count": null,
   "metadata": {},
   "outputs": [],
   "source": []
  }
 ],
 "metadata": {
  "kernelspec": {
   "display_name": "Python 3",
   "language": "python",
   "name": "python3"
  },
  "language_info": {
   "codemirror_mode": {
    "name": "ipython",
    "version": 3
   },
   "file_extension": ".py",
   "mimetype": "text/x-python",
   "name": "python",
   "nbconvert_exporter": "python",
   "pygments_lexer": "ipython3",
   "version": "3.7.4"
  }
 },
 "nbformat": 4,
 "nbformat_minor": 2
}
