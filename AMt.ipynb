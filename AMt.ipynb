{
 "cells": [
  {
   "cell_type": "code",
   "execution_count": null,
   "metadata": {},
   "outputs": [],
   "source": [
    "#https://www.dummies.com/programming/python/plotting-a-sound-file-in-ipython/\n",
    "import matplotlib.pyplot as plt\n",
    "from scipy.io import wavfile as wav\n",
    "from scipy.fftpack import fft\n",
    "import numpy as np\n",
    "import gurobipy\n",
    "from IPython.display import Audio"
   ]
  },
  {
   "cell_type": "code",
   "execution_count": null,
   "metadata": {
    "scrolled": false
   },
   "outputs": [],
   "source": [
    "# Read WAV File\n",
    "#wav_file= 'audiofile/1-E1-Major 07.wav'\n",
    "wav_file = 'audiofile/G53-40100-1111-235.wav'\n",
    "rate, data = wav.read(wav_file)\n",
    "\n",
    "%matplotlib inline\n",
    "plt.figure(figsize=(20,5))\n",
    "plt.plot(data)\n",
    "plt.show()"
   ]
  },
  {
   "cell_type": "code",
   "execution_count": null,
   "metadata": {},
   "outputs": [],
   "source": [
    "Audio(wav_file)"
   ]
  },
  {
   "cell_type": "markdown",
   "metadata": {},
   "source": [
    "## FFT"
   ]
  },
  {
   "cell_type": "code",
   "execution_count": null,
   "metadata": {},
   "outputs": [],
   "source": [
    "# How many time points are needed i,e., Sampling Frequency\n",
    "sampling_frequency   = rate;\n",
    "\n",
    "# At what intervals time points are sampled\n",
    "sampling_interval       = 1 / sampling_frequency;\n",
    "\n",
    "# Begin time period of the signals\n",
    "begin_time           = 0;\n",
    "\n",
    "# End time period of the signals\n",
    "# TODO: Get correct Endtime\n",
    "end_time             = 2.5; \n",
    "\n",
    "# Time points\n",
    "time        = np.arange(begin_time, end_time, sampling_interval);\n",
    "\n",
    "# Add the sine waves\n",
    "signal = data\n",
    "\n",
    "# Frequency domain representation\n",
    "fourier_transform = fft(signal)/len(signal)           # Normalize amplitude\n",
    "fourier_transform = fourier_transform[range(int(len(signal)/2))] # Exclude sampling frequency\n",
    "\n",
    "tp_count     = len(signal)\n",
    "values      = np.arange(int(tp_count/2))\n",
    "time_period  = tp_count/sampling_frequency\n",
    "frequencies = values/time_period"
   ]
  },
  {
   "cell_type": "code",
   "execution_count": null,
   "metadata": {},
   "outputs": [],
   "source": [
    "# Frequency domain representation\n",
    "plt.figure(figsize=(20,5))\n",
    "plt.plot(frequencies, abs(fourier_transform))\n",
    "plt.xlabel('Frequency in Hz')\n",
    "plt.ylabel('Amplitude')\n",
    "plt.xlim(0, 1300)\n",
    "plt.show()"
   ]
  },
  {
   "cell_type": "code",
   "execution_count": null,
   "metadata": {},
   "outputs": [],
   "source": [
    "ampl_const = 200\n",
    "fourier_list = list(abs(fourier_transform))\n",
    "ampl_peaks = list(filter(lambda i: i > 200, fourier_list))\n",
    "ampl_peaks"
   ]
  },
  {
   "cell_type": "code",
   "execution_count": null,
   "metadata": {},
   "outputs": [],
   "source": [
    "for x in range(len(ampl_peaks)):\n",
    "    index = fourier_list.index(ampl_peaks[x])\n",
    "    print('Frequenz bei Index {0}: {1}Hz mit einer Amplitude von: {2:0.2f}dB'\n",
    "          .format(index, frequencies[index], ampl_peaks[x]))"
   ]
  },
  {
   "cell_type": "code",
   "execution_count": null,
   "metadata": {},
   "outputs": [],
   "source": []
  }
 ],
 "metadata": {
  "kernelspec": {
   "display_name": "Python 3",
   "language": "python",
   "name": "python3"
  },
  "language_info": {
   "codemirror_mode": {
    "name": "ipython",
    "version": 3
   },
   "file_extension": ".py",
   "mimetype": "text/x-python",
   "name": "python",
   "nbconvert_exporter": "python",
   "pygments_lexer": "ipython3",
   "version": "3.7.4"
  }
 },
 "nbformat": 4,
 "nbformat_minor": 2
}
