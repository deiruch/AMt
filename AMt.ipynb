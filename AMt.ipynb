{
 "cells": [
  {
   "cell_type": "code",
   "execution_count": null,
   "metadata": {},
   "outputs": [],
   "source": [
    "#https://www.dummies.com/programming/python/plotting-a-sound-file-in-ipython/\n",
    "import matplotlib.pyplot as plt\n",
    "from scipy.io import wavfile as wav\n",
    "from scipy.fftpack import fft, ifft, rfft\n",
    "import numpy as np\n",
    "import gurobi"
   ]
  },
  {
   "cell_type": "code",
   "execution_count": null,
   "metadata": {
    "scrolled": false
   },
   "outputs": [],
   "source": [
    "# Read WAV File\n",
    "#wav_file= 'audiofile/1-E1-Major 07.wav'\n",
    "wav_file = 'audiofile/G53-40100-1111-235.wav'\n",
    "rate, data = wav.read(wav_file)\n",
    "\n",
    "%matplotlib inline\n",
    "plt.figure(figsize=(20,5))\n",
    "plt.plot(data)\n",
    "plt.show()"
   ]
  },
  {
   "cell_type": "code",
   "execution_count": null,
   "metadata": {},
   "outputs": [],
   "source": [
    "from IPython.display import Audio\n",
    "Audio(wav_file)"
   ]
  },
  {
   "cell_type": "code",
   "execution_count": null,
   "metadata": {},
   "outputs": [],
   "source": [
    "# Fast Fourier Transformation\n",
    "fft_out = fft(data)\n",
    "%matplotlib inline\n",
    "plt.figure(figsize=(20,5))\n",
    "plt.xlim(-500, 500)\n",
    "plt.plot(data, np.abs(fft_out))\n",
    "plt.show()"
   ]
  },
  {
   "cell_type": "markdown",
   "metadata": {},
   "source": [
    "## FFT"
   ]
  },
  {
   "cell_type": "code",
   "execution_count": null,
   "metadata": {},
   "outputs": [],
   "source": [
    "# How many time points are needed i,e., Sampling Frequency\n",
    "samplingFrequency   = rate;\n",
    "\n",
    "# At what intervals time points are sampled\n",
    "samplingInterval       = 1 / samplingFrequency;\n",
    "\n",
    "# Begin time period of the signals\n",
    "beginTime           = 0;\n",
    "\n",
    "# End time period of the signals\n",
    "# TODO: Get correct Endtime\n",
    "endTime             = 2.5; \n",
    "\n",
    "# Time points\n",
    "time        = np.arange(beginTime, endTime, samplingInterval);\n",
    "\n",
    "# Add the sine waves\n",
    "signal = data\n",
    "\n",
    "# Frequency domain representation\n",
    "fourierTransform = np.fft.fft(signal)/len(signal)           # Normalize amplitude\n",
    "fourierTransform = fourierTransform[range(int(len(signal)/2))] # Exclude sampling frequency\n",
    "\n",
    "tpCount     = len(signal)\n",
    "values      = np.arange(int(tpCount/2))\n",
    "timePeriod  = tpCount/samplingFrequency\n",
    "frequencies = values/timePeriod"
   ]
  },
  {
   "cell_type": "code",
   "execution_count": null,
   "metadata": {},
   "outputs": [],
   "source": [
    "# Frequency domain representation\n",
    "plt.plot(frequencies, abs(fourierTransform))\n",
    "plt.xlabel('Frequency in Hz')\n",
    "plt.ylabel('Amplitude')\n",
    "plt.xlim(0, 600)\n",
    "plt.show()"
   ]
  },
  {
   "cell_type": "code",
   "execution_count": null,
   "metadata": {},
   "outputs": [],
   "source": []
  }
 ],
 "metadata": {
  "kernelspec": {
   "display_name": "Python 3",
   "language": "python",
   "name": "python3"
  },
  "language_info": {
   "codemirror_mode": {
    "name": "ipython",
    "version": 3
   },
   "file_extension": ".py",
   "mimetype": "text/x-python",
   "name": "python",
   "nbconvert_exporter": "python",
   "pygments_lexer": "ipython3",
   "version": "3.7.3"
  }
 },
 "nbformat": 4,
 "nbformat_minor": 2
}
