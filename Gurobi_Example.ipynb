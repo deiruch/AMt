{
 "cells": [
  {
   "cell_type": "code",
   "execution_count": null,
   "metadata": {
    "collapsed": true
   },
   "outputs": [],
   "source": [
    "from gurobipy import *\n",
    "import matplotlib.pyplot as pyplot\n",
    "from math import exp"
   ]
  },
  {
   "cell_type": "code",
   "execution_count": null,
   "metadata": {},
   "outputs": [],
   "source": [
    "m = Model()\n",
    "v0 = m.addVar()\n",
    "v1 = m.addVar()\n",
    "m.update()\n",
    "m.addConstr(v0-v1 <= 4)\n",
    "m.addConstr(v0 + v1 <= 4)\n",
    "m.addConstr(-0.25*v0 + v1 <= 1)\n",
    "m.setObjective(v1, GRB.MAXIMIZE)\n",
    "m.params.outputflag = 0\n",
    "m.optimize()"
   ]
  },
  {
   "cell_type": "code",
   "execution_count": null,
   "metadata": {},
   "outputs": [],
   "source": [
    "pyplot.plot([0,4], [0,4])\n",
    "pyplot.plot([4,0], [0,4])\n",
    "pyplot.plot([0,4], [1,2])\n",
    "pyplot.plot([v0.x], [v1.x], 'ro')\n",
    "pyplot.show()"
   ]
  },
  {
   "cell_type": "markdown",
   "metadata": {},
   "source": [
    "# Lineare Programmierung\n",
    "<br>https://www.youtube.com/watch?v=p_-MQzeFlh0\n",
    "<br>\n",
    "<br> Maximieren Sie: Z = x2 + 2 * x1\n",
    "<br>\n",
    "<br> Nebenbedingungen:\n",
    "<br> 1. x1 >= 0\n",
    "<br> 2. x2 <= 6 + x1\n",
    "<br> 3. x2 <= 5 + x1 * 1/4\n",
    "<br> 4. x2 <= 34/3 - x1 * 4/3\n",
    "<br> 5. x2 >= -4 + x1 * 1/5"
   ]
  },
  {
   "cell_type": "code",
   "execution_count": null,
   "metadata": {},
   "outputs": [],
   "source": [
    "m = Model()\n",
    "x1 = m.addVar()\n",
    "x2 = m.addVar(lb=-4)\n",
    "\n",
    "z = x2 + 2*x1\n",
    "m.update()\n",
    "\n",
    "m.addConstr(x1 >= 0)\n",
    "m.addConstr(x2 <= 6 + x1)\n",
    "m.addConstr(x2 <= 5 + x1*1/4)\n",
    "m.addConstr(x2 <= 34/3 - x1*4/3)\n",
    "m.addConstr(x2 >= -4 + x1*1/5)\n",
    "\n",
    "m.setObjective(z, GRB.MAXIMIZE)\n",
    "m.optimize()"
   ]
  },
  {
   "cell_type": "code",
   "execution_count": null,
   "metadata": {},
   "outputs": [],
   "source": [
    "pyplot.plot([0,6], [6,13])\n",
    "pyplot.plot([0,16], [5,9])\n",
    "pyplot.plot([0,10], [11,-2])\n",
    "pyplot.plot([0,20], [-4,0])\n",
    "pyplot.plot([x1.x], [x2.x], 'ro')\n",
    "pyplot.xlabel('x1')\n",
    "pyplot.ylabel('x2')\n",
    "pyplot.show()"
   ]
  },
  {
   "cell_type": "markdown",
   "metadata": {},
   "source": [
    "# Piecewise Linear Objective\n",
    "https://www.gurobi.com/documentation/8.1/examples/piecewise_py.html#subsubsection:piecewise.py"
   ]
  },
  {
   "cell_type": "code",
   "execution_count": null,
   "metadata": {},
   "outputs": [],
   "source": [
    "def f(u):\n",
    "    return exp(-u)\n",
    "\n",
    "def g(u):\n",
    "    return 2 * u * u - 4 * u\n",
    "\n",
    "try:\n",
    "\n",
    "    # Create a new model\n",
    "    m = Model()\n",
    "\n",
    "    # Create variables\n",
    "    lb = 0.0\n",
    "    ub = 1.0\n",
    "\n",
    "    x = m.addVar(lb, ub, name='x')\n",
    "    y = m.addVar(lb, ub, name='y')\n",
    "    z = m.addVar(lb, ub, name='z')\n",
    "\n",
    "    # Set objective for y\n",
    "    m.setObjective(-y)\n",
    "\n",
    "    # Add piecewise-linear objective functions for x and z\n",
    "    npts = 101\n",
    "    ptu = []\n",
    "    ptf = []\n",
    "    ptg = []\n",
    "\n",
    "    for i in range(npts):\n",
    "        ptu.append(lb + (ub - lb) * i / (npts - 1))\n",
    "        ptf.append(f(ptu[i]))\n",
    "        ptg.append(g(ptu[i]))\n",
    "\n",
    "        \n",
    "    #print('ptu: ', type(ptu))\n",
    "    #print('ptu: ', ptu)\n",
    "    #print('ptf: ', type(ptf))\n",
    "    m.setPWLObj(x, ptu, ptf)\n",
    "    m.setPWLObj(z, ptu, ptg)\n",
    "    \n",
    "    m.update()\n",
    "\n",
    "    #print('x: ', m.getPWLObj(x))\n",
    "    #print('z: ', m.getPWLObj(z))\n",
    "\n",
    "    # Add constraint: x + 2 y + 3 z <= 4\n",
    "    m.addConstr(x + 2 * y + 3 * z <= 4, 'c0')\n",
    "\n",
    "    # Add constraint: x + y >= 1\n",
    "    m.addConstr(x + y >= 1, 'c1')\n",
    "\n",
    "    # Optimize model as an LP\n",
    "    m.optimize()\n",
    "    \n",
    "    #print('bla:', m.getPWLObj(x))\n",
    "\n",
    "    print('IsMIP: %d' % m.IsMIP)\n",
    "    for v in m.getVars():\n",
    "        print('%s %g' % (v.VarName, v.X))\n",
    "    print('Obj: %g' % m.ObjVal)\n",
    "    print('')\n",
    "    \n",
    "\n",
    "    # Negate piecewise-linear objective function for x\n",
    "    for i in range(npts):\n",
    "        ptf[i] = -ptf[i]\n",
    "\n",
    "    m.setPWLObj(x, ptu, ptf)\n",
    "\n",
    "    # Optimize model as a MIP\n",
    "    m.optimize()\n",
    "\n",
    "    print('IsMIP: %d' % m.IsMIP)\n",
    "    for v in m.getVars():\n",
    "        print('%s %g' % (v.VarName, v.X))\n",
    "    print('Obj: %g' % m.ObjVal)\n",
    "\n",
    "except GurobiError as e:\n",
    "    print('Error code ' + str(e.errno) + \": \" + str(e))\n",
    "\n",
    "except AttributeError:\n",
    "    print('Encountered an attribute error')\n",
    "    "
   ]
  },
  {
   "cell_type": "markdown",
   "metadata": {},
   "source": [
    "# Simple Audio Example"
   ]
  },
  {
   "cell_type": "code",
   "execution_count": null,
   "metadata": {},
   "outputs": [],
   "source": [
    "mischsignal = [0.0, 1.0, 1.0, 3.0, 2.0, 0.0]\n",
    "ton_1 = [0.0, 1.0, 0.0, 0.0, 0.0, 0.0]\n",
    "ton_2 = [0.0, 0.0, 1.0, 0.0, 0.0, 0.0]\n",
    "ton_3 = [0.0, 0.0, 0.0, 1.0, 0.0, 0.0]\n",
    "ton_4 = [0.0, 0.0, 0.0, 0.0, 1.0, 0.0]\n",
    "ton_5 = [0.0, 0.0, 0.0, 0.0, 0.0, 1.0]\n",
    "freq = [0.0, 1.0, 2.0, 3.0, 4.0, 5.0]"
   ]
  },
  {
   "cell_type": "code",
   "execution_count": null,
   "metadata": {},
   "outputs": [],
   "source": [
    "pyplot.plot(freq, ton_1)\n",
    "pyplot.plot(freq, ton_2)\n",
    "pyplot.plot(freq, ton_3)\n",
    "pyplot.plot(freq, ton_4)\n",
    "pyplot.plot(freq, ton_5)\n",
    "pyplot.plot(freq, mischsignal)\n",
    "pyplot.xlabel('Frequenz')\n",
    "pyplot.ylabel('Amplitude')\n",
    "pyplot.show()"
   ]
  },
  {
   "cell_type": "code",
   "execution_count": null,
   "metadata": {},
   "outputs": [],
   "source": [
    "m = Model()\n",
    "lamb_1 = m.addVar(vtype = GRB.INTEGER, name = 'lamb_1')\n",
    "#lamb_2 = m.addVar(vtype = GRB.INTEGER, name = 'lamb_2')\n",
    "#lamb_3 = m.addVar(vtype = GRB.INTEGER, name = 'lamb_3')\n",
    "#lamb_4 = m.addVar(vtype = GRB.INTEGER, name = 'lamb_4')\n",
    "\n",
    "m.setObjective(lamb_1, GRB.MAXIMIZE)\n",
    "#m.setObjectiveN(lamb_1, 1) # Position ist wichitg!!!\n",
    "#m.setObjectiveN(lamb_2, 2)\n",
    "#m.setObjectiveN(lamb_3, 3)\n",
    "#m.setObjectiveN(lamb_4, 4)\n",
    "m.update()\n",
    "\n",
    "t1 = m.addVar(name = 't1')\n",
    "t2 = m.addVar(name = 't2')\n",
    "t3 = m.addVar(name = 't3')\n",
    "t4 = m.addVar(name = 't4')\n",
    "mix = m.addVar(name = 'mix')\n",
    "\n",
    "m.setPWLObj(t1, freq, ton_1)\n",
    "#m.setPWLObj(t2, freq, ton_2)\n",
    "#m.setPWLObj(t3, freq, ton_3)\n",
    "#m.setPWLObj(t4, freq, ton_4)\n",
    "m.setPWLObj(mix, freq, mischsignal)\n",
    "\n",
    "m.update()\n",
    "\n",
    "#m.addConstr(mix - (lamb_1 * t1 +\n",
    "#                   lamb_2 * t2 +\n",
    "#                   lamb_3 * t3 +\n",
    "#                   lamb_4 * t4)<= 1)\n",
    "\n",
    "print('mix:', m.getPWLObj(mix))\n",
    "print('t1', m.getPWLObj(t1))\n",
    "\n",
    "#m.addConstr(mix - (lamb_1*t1) <= 10)\n",
    "#m.addConstr(lamb_1 <= 10)\n",
    "#m.addConstr(2 * lamb_1 + 3 * t1 + mix <= 10, 'c0')\n",
    "#m.addConstr(lamb_1 * t1 <= 3)\n",
    "m.addConstr(mix >= lamb_1*t1)\n",
    "\n",
    "m.optimize()\n",
    "\n",
    "print('t1: ', m.getPWLObj(t1))\n",
    "print('mix: ', m.getPWLObj(mix))\n",
    "\n",
    "for v in m.getVars():\n",
    "    print('%s: %g' % (v.varName, v.x))"
   ]
  },
  {
   "cell_type": "code",
   "execution_count": null,
   "metadata": {},
   "outputs": [],
   "source": []
  }
 ],
 "metadata": {
  "kernelspec": {
   "display_name": "Python 3",
   "language": "python",
   "name": "python3"
  },
  "language_info": {
   "codemirror_mode": {
    "name": "ipython",
    "version": 3
   },
   "file_extension": ".py",
   "mimetype": "text/x-python",
   "name": "python",
   "nbconvert_exporter": "python",
   "pygments_lexer": "ipython3",
   "version": "3.7.4"
  }
 },
 "nbformat": 4,
 "nbformat_minor": 2
}
