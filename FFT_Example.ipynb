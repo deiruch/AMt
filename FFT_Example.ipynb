{
 "cells": [
  {
   "cell_type": "code",
   "execution_count": null,
   "metadata": {},
   "outputs": [],
   "source": [
    "import numpy as np\n",
    "import matplotlib.pyplot as plt\n",
    "from scipy.io import wavfile as wav\n",
    "from scipy.fftpack import fft\n",
    "from gurobipy import *"
   ]
  },
  {
   "cell_type": "markdown",
   "metadata": {},
   "source": [
    "https://pythontic.com/visualization/signals/fouriertransform_fft"
   ]
  },
  {
   "cell_type": "code",
   "execution_count": null,
   "metadata": {},
   "outputs": [],
   "source": [
    "# How many time points are needed i,e., Sampling Frequency\n",
    "sampling_frequency   = 100;\n",
    "\n",
    "# At what intervals time points are sampled\n",
    "sampling_interval       = 1 / sampling_frequency;\n",
    "\n",
    "# Begin time period of the signals\n",
    "begin_time           = 0;\n",
    "\n",
    "# End time period of the signals\n",
    "end_time             = 10; \n",
    "\n",
    "# Frequency of the signals (in Hz)\n",
    "signal_1_frequency     = 1;\n",
    "signal_2_frequency     = 4;\n",
    "signal_3_frequency     = 3;\n",
    "\n",
    "#Amplitude of the signals (in dB)\n",
    "signal_1_amplitude     = 2;\n",
    "signal_2_amplitude     = 1.5;\n",
    "signal_3_amplitude     = 1;\n",
    "\n",
    "# Time points\n",
    "time        = np.arange(begin_time, end_time, sampling_interval);\n",
    "\n",
    "# Create three sine waves\n",
    "signal_1 = signal_1_amplitude*np.sin(2*np.pi*signal_1_frequency*time)\n",
    "signal_2 = signal_2_amplitude*np.sin(2*np.pi*signal_2_frequency*time)\n",
    "signal_3 = signal_3_amplitude*np.sin(2*np.pi*signal_3_frequency*time)\n",
    "\n",
    "# Create subplot\n",
    "figure, axis = plt.subplots(5, 1)\n",
    "plt.subplots_adjust(hspace=1) \n",
    "\n",
    "# Time domain representation for sine wave 1\n",
    "axis[0].set_title('Sine wave with a frequency of 1 Hz')\n",
    "axis[0].plot(time, signal_1)\n",
    "axis[0].set_xlabel('Time')\n",
    "axis[0].set_ylabel('Amplitude')\n",
    "\n",
    "# Time domain representation for sine wave 2\n",
    "axis[1].set_title('Sine wave with a frequency of 2 Hz')\n",
    "axis[1].plot(time, signal_2)\n",
    "axis[1].set_xlabel('Time')\n",
    "axis[1].set_ylabel('Amplitude')\n",
    "\n",
    "# Time domain representation for sine wave 3\n",
    "axis[2].set_title('Sine wave with a frequency of 3 Hz')\n",
    "axis[2].plot(time, signal_3)\n",
    "axis[2].set_xlabel('Time')\n",
    "axis[2].set_ylabel('Amplitude')\n",
    " \n",
    "# Add the sine waves\n",
    "signal = signal_1 + signal_2 + signal_3\n",
    "\n",
    "# Time domain representation of the resultant sine wave\n",
    "axis[3].set_title('Sine wave with multiple frequencies')\n",
    "axis[3].plot(time, signal)\n",
    "axis[3].set_xlabel('Time')\n",
    "axis[3].set_ylabel('Amplitude')\n",
    "\n",
    "# Frequency domain representation\n",
    "fourier_transform = fft(signal)/len(signal)           # Normalize amplitude\n",
    "fourier_transform = fourier_transform[range(int(len(signal)/2))] # Exclude sampling frequency\n",
    "\n",
    "tp_count     = len(signal)\n",
    "values      = np.arange(int(tp_count/2))\n",
    "time_period  = tp_count/sampling_frequency\n",
    "frequencies = values/time_period\n",
    " \n",
    "# Frequency domain representation\n",
    "axis[4].set_title('Fourier transform depicting the frequency components')\n",
    "axis[4].plot(frequencies, abs(fourier_transform))\n",
    "axis[4].set_xlabel('Frequency')\n",
    "axis[4].set_ylabel('Amplitude')\n",
    "\n",
    "plt.show()"
   ]
  },
  {
   "cell_type": "code",
   "execution_count": null,
   "metadata": {},
   "outputs": [],
   "source": [
    "# Plot Mischsignal\n",
    "plt.figure(figsize=(20,5))\n",
    "plt.plot(frequencies, abs(fourier_transform))\n",
    "plt.xlim(0, 5)\n",
    "plt.xlabel('Frequency (Hz)')\n",
    "plt.ylabel('Amplitude')"
   ]
  },
  {
   "cell_type": "code",
   "execution_count": null,
   "metadata": {},
   "outputs": [],
   "source": [
    "index_1 = 10\n",
    "index_2 = 20\n",
    "index_3 = 30\n",
    "\n",
    "ampl_1 = abs(fourier_transform[index_1])\n",
    "ampl_2 = abs(fourier_transform[index_2])\n",
    "ampl_3 = abs(fourier_transform[index_3])\n",
    "print('Amplitude bei Index {}: {}'.format(index_1, ampl_1))\n",
    "print('Amplitude bei Index {}: {}'.format(index_2, ampl_2))\n",
    "print('Amplitude bei Index {}: {}'.format(index_3, ampl_3))"
   ]
  },
  {
   "cell_type": "code",
   "execution_count": null,
   "metadata": {},
   "outputs": [],
   "source": [
    "print('Frequenz bei Index {}: {}Hz'.format(index_1, frequencies[index_1]))\n",
    "print('Frequenz bei Index {}: {}Hz'.format(index_2, frequencies[index_2]))\n",
    "print('Frequenz bei Index {}: {}Hz'.format(index_3, frequencies[index_3]))"
   ]
  },
  {
   "cell_type": "code",
   "execution_count": null,
   "metadata": {},
   "outputs": [],
   "source": [
    "fourier_list = list(abs(fourier_transform))\n",
    "ampl_peaks = list(filter(lambda i: i > 0.2, fourier_list))"
   ]
  },
  {
   "cell_type": "code",
   "execution_count": null,
   "metadata": {},
   "outputs": [],
   "source": [
    "for x in range(len(ampl_peaks)):\n",
    "    index = fourier_list.index(ampl_peaks[x])\n",
    "    print('Frequenz bei Index {0}: {1}Hz mit einer Amplitude von: {2:0.2f}dB'\n",
    "          .format(index, frequencies[index], ampl_peaks[x]))"
   ]
  },
  {
   "cell_type": "code",
   "execution_count": null,
   "metadata": {},
   "outputs": [],
   "source": [
    "plt.figure(figsize=(20,5))\n",
    "plt.plot(time, signal)\n",
    "plt.xlabel('Frequency (Hz)')\n",
    "plt.ylabel('Amplitude')"
   ]
  },
  {
   "cell_type": "markdown",
   "metadata": {},
   "source": [
    "# Creating a simple audiosignal"
   ]
  },
  {
   "cell_type": "code",
   "execution_count": null,
   "metadata": {},
   "outputs": [],
   "source": [
    "# Create a sine wave\n",
    "def create_wave(ampl, freq, time): \n",
    "    signal= ampl*np.sin(2*np.pi*freq*time)\n",
    "    \n",
    "    # Frequency domain representation, Signal\n",
    "    fft_signal = fft(signal)/len(signal)           # Normalize amplitude\n",
    "    fft_signal = fft_signal[range(int(len(signal)/2))] # Exclude sampling frequency\n",
    "    \n",
    "    # Plot Signal\n",
    "    plt.figure(figsize=(20,2))\n",
    "    plt.plot(frequencies, abs(fft_signal))\n",
    "    plt.xlim(0, 5)\n",
    "    plt.xlabel('Frequency (Hz)')\n",
    "    plt.ylabel('Amplitude')\n",
    "    \n",
    "    return abs(fft_signal)"
   ]
  },
  {
   "cell_type": "code",
   "execution_count": null,
   "metadata": {},
   "outputs": [],
   "source": [
    "ton_1 = create_wave(1, 3, time)"
   ]
  },
  {
   "cell_type": "code",
   "execution_count": null,
   "metadata": {},
   "outputs": [],
   "source": [
    "ton_2 = create_wave(1,1,time)"
   ]
  },
  {
   "cell_type": "code",
   "execution_count": null,
   "metadata": {},
   "outputs": [],
   "source": [
    "ton_3 = create_wave(1, 4,time)"
   ]
  },
  {
   "cell_type": "code",
   "execution_count": null,
   "metadata": {},
   "outputs": [],
   "source": [
    "mischsignal = 3 * ton_1 +  2 * ton_2 + ton_3\n",
    "mischsignal = abs(mischsignal)"
   ]
  },
  {
   "cell_type": "code",
   "execution_count": null,
   "metadata": {},
   "outputs": [],
   "source": [
    "plt.figure(figsize=(20,2))\n",
    "plt.plot(frequencies, mischsignal)\n",
    "plt.xlim(0, 5)\n",
    "plt.xlabel('Frequency (Hz)')\n",
    "plt.ylabel('Amplitude')"
   ]
  },
  {
   "cell_type": "code",
   "execution_count": null,
   "metadata": {},
   "outputs": [],
   "source": [
    "m = Model()\n",
    "lamb_1 = m.addVar(lb = 0, vtype = GRB.CONTINUOUS, name = 'lamb_1')\n",
    "lamb_2 = m.addVar(lb = 0, vtype = GRB.CONTINUOUS, name = 'lamb_2')\n",
    "lamb_3 = m.addVar(lb = 0, vtype = GRB.CONTINUOUS, name = 'lamb_3')\n",
    "\n",
    "deviation = 0\n",
    "\n",
    "for sgn in range(len(mischsignal)):\n",
    "    approxi_sgn = (lamb_1*ton_1[sgn] + \n",
    "                   lamb_2*ton_2[sgn] + \n",
    "                   lamb_3*ton_3[sgn])\n",
    "    deviation += ((mischsignal[sgn] - approxi_sgn)*(mischsignal[sgn] - approxi_sgn))\n",
    "\n",
    "m.setObjective(deviation, GRB.MINIMIZE)\n",
    "m.optimize()\n",
    "\n",
    "for v in m.getVars():\n",
    "    print('%s: %g' % (v.varName, v.x))"
   ]
  },
  {
   "cell_type": "code",
   "execution_count": null,
   "metadata": {},
   "outputs": [],
   "source": []
  }
 ],
 "metadata": {
  "kernelspec": {
   "display_name": "Python 3",
   "language": "python",
   "name": "python3"
  },
  "language_info": {
   "codemirror_mode": {
    "name": "ipython",
    "version": 3
   },
   "file_extension": ".py",
   "mimetype": "text/x-python",
   "name": "python",
   "nbconvert_exporter": "python",
   "pygments_lexer": "ipython3",
   "version": "3.7.4"
  }
 },
 "nbformat": 4,
 "nbformat_minor": 2
}
