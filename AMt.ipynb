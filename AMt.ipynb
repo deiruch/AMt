{
 "cells": [
  {
   "cell_type": "code",
   "execution_count": 1,
   "metadata": {},
   "outputs": [],
   "source": [
    "#https://www.dummies.com/programming/python/plotting-a-sound-file-in-ipython/\n",
    "import matplotlib.pyplot as plt\n",
    "from scipy.io import wavfile as wav\n",
    "from scipy.fftpack import fft\n",
    "import numpy as np\n",
    "from gurobipy import *\n",
    "from IPython.display import Audio"
   ]
  },
  {
   "cell_type": "code",
   "execution_count": null,
   "metadata": {
    "scrolled": false
   },
   "outputs": [],
   "source": [
    "# Read WAV File\n",
    "wav_file = 'audiofile/G53-40100-1111-235.wav'\n",
    "rate, data = wav.read(wav_file)\n",
    "file_length_in_seconds = len(data)/rate\n",
    "\n",
    "wav_file1= 'audiofile/1-E1-Major 07.wav'\n",
    "rate1, data1 = wav.read(wav_file1)\n",
    "file_length_in_seconds1 = len(data1)/rate1\n",
    "\n",
    "%matplotlib inline\n",
    "plt.figure(figsize=(20,5))\n",
    "plt.plot(data)\n",
    "plt.title('wav_file')\n",
    "#plt.show() #not needed if %matplotlib inline is already initialized\n",
    "plt.figure(figsize=(20,5))\n",
    "plt.plot(data1)\n",
    "plt.title('wav_file1')"
   ]
  },
  {
   "cell_type": "code",
   "execution_count": null,
   "metadata": {},
   "outputs": [],
   "source": [
    "Audio(wav_file)"
   ]
  },
  {
   "cell_type": "code",
   "execution_count": null,
   "metadata": {},
   "outputs": [],
   "source": [
    "Audio(wav_file1)"
   ]
  },
  {
   "cell_type": "markdown",
   "metadata": {},
   "source": [
    "## FFT"
   ]
  },
  {
   "cell_type": "code",
   "execution_count": 2,
   "metadata": {},
   "outputs": [],
   "source": [
    "# Function for transforming a signal with fourier\n",
    "def fourier_trans(data, rate, begin_time, end_time): \n",
    "    # initialising variables\n",
    "    tp_count = len(data)\n",
    "    values = np.arange(int(tp_count/2))\n",
    "    time_period = tp_count/rate\n",
    "    frequencies = values/time_period\n",
    "    \n",
    "    #at what intervals time points are sampled\n",
    "    sampling_interval = 1/rate;\n",
    "    \n",
    "    #time points\n",
    "    time = np.arange(begin_time, end_time, sampling_interval);\n",
    "    \n",
    "    #Frequency domain representation\n",
    "    fourier_transform = fft(data)/tp_count #normalized the amplitude\n",
    "    fourier_transform = fourier_transform[range(int(len(data)/2))] #exclude sampling frequency\n",
    "    \n",
    "    return frequencies, abs(fourier_transform)"
   ]
  },
  {
   "cell_type": "code",
   "execution_count": null,
   "metadata": {},
   "outputs": [],
   "source": [
    "freq, fourier = fourier_trans(data, rate, 0, file_length_in_seconds)"
   ]
  },
  {
   "cell_type": "code",
   "execution_count": null,
   "metadata": {},
   "outputs": [],
   "source": [
    "freq1, fourier1 = fourier_trans(data1, rate1, 0, file_length_in_seconds1)"
   ]
  },
  {
   "cell_type": "code",
   "execution_count": 3,
   "metadata": {},
   "outputs": [],
   "source": [
    "# Frequency domain representation\n",
    "def plot_freq_domain(freq, fourier,name):\n",
    "    plt.figure(figsize=(20,5))\n",
    "    plt.plot(freq, fourier)\n",
    "    plt.xlabel('Frequency in Hz')\n",
    "    plt.ylabel('Amplitude')\n",
    "    plt.xlim(0, 1300)\n",
    "    plt.title(name)\n",
    "    plt.show()"
   ]
  },
  {
   "cell_type": "code",
   "execution_count": null,
   "metadata": {},
   "outputs": [],
   "source": [
    "plot_freq_domain(freq,fourier, wav_file)"
   ]
  },
  {
   "cell_type": "code",
   "execution_count": null,
   "metadata": {},
   "outputs": [],
   "source": [
    "plot_freq_domain(freq1,fourier1, wav_file1)"
   ]
  },
  {
   "cell_type": "code",
   "execution_count": null,
   "metadata": {},
   "outputs": [],
   "source": [
    "ampl_const = 200\n",
    "fourier_list = list(fourier)\n",
    "ampl_peaks = list(filter(lambda i: i > 200, fourier_list))\n",
    "ampl_peaks"
   ]
  },
  {
   "cell_type": "code",
   "execution_count": null,
   "metadata": {},
   "outputs": [],
   "source": [
    "for x in range(len(ampl_peaks)):\n",
    "    index = fourier_list.index(ampl_peaks[x])\n",
    "    print('Frequenz bei Index {0}: {1}Hz mit einer Amplitude von: {2:0.2f}dB'\n",
    "          .format(index, freq[index], ampl_peaks[x]))"
   ]
  },
  {
   "cell_type": "markdown",
   "metadata": {},
   "source": [
    "# Chord Approximation\n"
   ]
  },
  {
   "cell_type": "code",
   "execution_count": 24,
   "metadata": {},
   "outputs": [],
   "source": [
    "# Read wav-Files\n",
    "rate_40, data_40 = wav.read('audiofile/G53-40100-1111-00001.wav')\n",
    "rate_41, data_41 = wav.read('audiofile/G53-41101-1111-00002.wav')\n",
    "rate_42, data_42 = wav.read('audiofile/G53-42102-1111-00003.wav')\n",
    "rate_43, data_43 = wav.read('audiofile/G53-43103-1111-00004.wav')\n",
    " \n",
    "rate_45, data_45 = wav.read('audiofile/G53-45200-1111-00014.wav')\n",
    "rate_46, data_46 = wav.read('audiofile/G53-46201-1111-00015.wav')\n",
    "rate_47, data_47 = wav.read('audiofile/G53-47202-1111-00016.wav')\n",
    "rate_48, data_48 = wav.read('audiofile/G53-48203-1111-00017.wav')\n",
    " \n",
    "rate_50, data_50 = wav.read('audiofile/G53-50300-1111-00027.wav')\n",
    "rate_51, data_51 = wav.read('audiofile/G53-51301-1111-00028.wav')\n",
    "rate_52, data_52 = wav.read('audiofile/G53-52302-1111-00029.wav')\n",
    "rate_53, data_53 = wav.read('audiofile/G53-53303-1111-00030.wav')\n",
    " \n",
    "rate_55, data_55 = wav.read('audiofile/G53-55400-1111-00040.wav')\n",
    "rate_56, data_56 = wav.read('audiofile/G53-56401-1111-00041.wav')\n",
    "rate_57, data_57 = wav.read('audiofile/G53-57402-1111-00042.wav')\n",
    "rate_58, data_58 = wav.read('audiofile/G53-58403-1111-00043.wav')\n",
    " \n",
    "rate_59, data_59 = wav.read('audiofile/G53-59500-1111-00053.wav')\n",
    "rate_60, data_60 = wav.read('audiofile/G53-60501-1111-00054.wav')\n",
    "rate_61, data_61 = wav.read('audiofile/G53-61502-1111-00055.wav')\n",
    "rate_62, data_62 = wav.read('audiofile/G53-62503-1111-00056.wav')\n",
    " \n",
    "rate_64, data_64 = wav.read('audiofile/G53-64600-1111-00066.wav')\n",
    "rate_65, data_65 = wav.read('audiofile/G53-65601-1111-00067.wav')\n",
    "rate_66, data_66 = wav.read('audiofile/G53-66602-1111-00068.wav')\n",
    "rate_67, data_67 = wav.read('audiofile/G53-67603-1111-00069.wav')\n",
    "\n",
    "# Chords\n",
    "#rate_chord, data_chord = wav.read('audiofile/1-E1-Major 00.wav')\n",
    "rate_chord, data_chord = wav.read('audiofile/1-E1-Major 01.wav')\n",
    "\n",
    "# Singletone\n",
    "#rate_chord, data_chord = wav.read('audiofile/G53-65601-1111-00067.wav')\n",
    "\n",
    "# Singletone played on another guitar\n",
    "#rate_chord, data_chord = wav.read('audiofile/G53-42102-1111-237.wav')\n",
    "\n"
   ]
  },
  {
   "cell_type": "code",
   "execution_count": 25,
   "metadata": {},
   "outputs": [],
   "source": [
    "freq, mischsignal = fourier_trans(data_chord, rate_chord, 0, 2.5) \n",
    " \n",
    "# 1. Saite Bund 0 - 3\n",
    "_, ton_40      = fourier_trans(data_40, rate_40, 0, 2.5)\n",
    "_, ton_41      = fourier_trans(data_41, rate_41, 0, 2.5)\n",
    "_, ton_42      = fourier_trans(data_42, rate_42, 0, 2.5)\n",
    "_, ton_43      = fourier_trans(data_43, rate_43, 0, 2.5)\n",
    " \n",
    "# 2. Saite Bund 0 - 3\n",
    "_, ton_45      = fourier_trans(data_45, rate_45, 0, 2.5)\n",
    "_, ton_46      = fourier_trans(data_46, rate_46, 0, 2.5)\n",
    "_, ton_47      = fourier_trans(data_47, rate_47, 0, 2.5)\n",
    "_, ton_48      = fourier_trans(data_48, rate_48, 0, 2.5)\n",
    " \n",
    "# 3. Saite Bund 0 - 3\n",
    "_, ton_50      = fourier_trans(data_50, rate_50, 0, 2.5)\n",
    "_, ton_51      = fourier_trans(data_51, rate_51, 0, 2.5)\n",
    "_, ton_52      = fourier_trans(data_52, rate_42, 0, 2.5)\n",
    "_, ton_53      = fourier_trans(data_53, rate_43, 0, 2.5)\n",
    " \n",
    "# 4. Saite Bund 0 - 3\n",
    "_, ton_55      = fourier_trans(data_55, rate_55, 0, 2.5)\n",
    "_, ton_56      = fourier_trans(data_56, rate_56, 0, 2.5)\n",
    "_, ton_57      = fourier_trans(data_57, rate_57, 0, 2.5)\n",
    "_, ton_58      = fourier_trans(data_58, rate_58, 0, 2.5)\n",
    " \n",
    "# 5. Saite Bund 0 - 3\n",
    "_, ton_59      = fourier_trans(data_59, rate_59, 0, 2.5)\n",
    "_, ton_60      = fourier_trans(data_60, rate_60, 0, 2.5)\n",
    "_, ton_61      = fourier_trans(data_61, rate_61, 0, 2.5)\n",
    "_, ton_62      = fourier_trans(data_62, rate_62, 0, 2.5)\n",
    " \n",
    "# 6. Saite Bund 0 - 3\n",
    "_, ton_64      = fourier_trans(data_64, rate_64, 0, 2.5)\n",
    "_, ton_65      = fourier_trans(data_65, rate_65, 0, 2.5)\n",
    "_, ton_66      = fourier_trans(data_66, rate_66, 0, 2.5)\n",
    "_, ton_67      = fourier_trans(data_67, rate_67, 0, 2.5)\n"
   ]
  },
  {
   "cell_type": "code",
   "execution_count": 26,
   "metadata": {},
   "outputs": [
    {
     "data": {
      "image/png": "[encoded data removed]",
      "text/plain": [
       "<Figure size 1440x360 with 1 Axes>"
      ]
     },
     "metadata": {
      "needs_background": "light"
     },
     "output_type": "display_data"
    }
   ],
   "source": [
    "# plot mischsignal\n",
    "plot_freq_domain(freq, mischsignal, 'Mischsignal')"
   ]
  },
  {
   "cell_type": "code",
   "execution_count": 27,
   "metadata": {},
   "outputs": [],
   "source": [
    "ampl_const = 200\n",
    "fourier_list = list(mischsignal)\n",
    "ampl_peaks = list(filter(lambda i: i > 150, fourier_list))"
   ]
  },
  {
   "cell_type": "code",
   "execution_count": 28,
   "metadata": {},
   "outputs": [
    {
     "name": "stdout",
     "output_type": "stream",
     "text": [
      "Frequenz bei Index 217: 86.8Hz mit einer Amplitude von: 468.33dB\n",
      "Frequenz bei Index 218: 87.2Hz mit einer Amplitude von: 421.45dB\n",
      "Frequenz bei Index 219: 87.6Hz mit einer Amplitude von: 157.90dB\n",
      "Frequenz bei Index 327: 130.8Hz mit einer Amplitude von: 494.43dB\n",
      "Frequenz bei Index 328: 131.2Hz mit einer Amplitude von: 214.03dB\n",
      "Frequenz bei Index 329: 131.6Hz mit einer Amplitude von: 187.38dB\n",
      "Frequenz bei Index 434: 173.6Hz mit einer Amplitude von: 167.07dB\n",
      "Frequenz bei Index 435: 174.0Hz mit einer Amplitude von: 243.31dB\n",
      "Frequenz bei Index 436: 174.4Hz mit einer Amplitude von: 310.00dB\n",
      "Frequenz bei Index 437: 174.8Hz mit einer Amplitude von: 215.13dB\n",
      "Frequenz bei Index 438: 175.2Hz mit einer Amplitude von: 203.99dB\n",
      "Frequenz bei Index 439: 175.6Hz mit einer Amplitude von: 408.23dB\n",
      "Frequenz bei Index 440: 176.0Hz mit einer Amplitude von: 232.83dB\n",
      "Frequenz bei Index 549: 219.6Hz mit einer Amplitude von: 156.69dB\n",
      "Frequenz bei Index 550: 220.0Hz mit einer Amplitude von: 370.75dB\n",
      "Frequenz bei Index 551: 220.4Hz mit einer Amplitude von: 194.73dB\n",
      "Frequenz bei Index 552: 220.8Hz mit einer Amplitude von: 164.01dB\n",
      "Frequenz bei Index 654: 261.6Hz mit einer Amplitude von: 244.69dB\n",
      "Frequenz bei Index 655: 262.0Hz mit einer Amplitude von: 264.24dB\n",
      "Frequenz bei Index 656: 262.4Hz mit einer Amplitude von: 245.77dB\n",
      "Frequenz bei Index 657: 262.8Hz mit einer Amplitude von: 255.73dB\n",
      "Frequenz bei Index 658: 263.2Hz mit einer Amplitude von: 189.71dB\n",
      "Frequenz bei Index 659: 263.6Hz mit einer Amplitude von: 257.87dB\n",
      "Frequenz bei Index 660: 264.0Hz mit einer Amplitude von: 256.96dB\n",
      "Frequenz bei Index 661: 264.4Hz mit einer Amplitude von: 203.70dB\n",
      "Frequenz bei Index 877: 350.8Hz mit einer Amplitude von: 194.74dB\n",
      "Frequenz bei Index 878: 351.2Hz mit einer Amplitude von: 232.90dB\n",
      "Frequenz bei Index 879: 351.6Hz mit einer Amplitude von: 332.47dB\n",
      "Frequenz bei Index 1101: 440.4Hz mit einer Amplitude von: 371.60dB\n",
      "Frequenz bei Index 1102: 440.8Hz mit einer Amplitude von: 420.84dB\n",
      "Frequenz bei Index 1103: 441.2Hz mit einer Amplitude von: 264.58dB\n",
      "Frequenz bei Index 1104: 441.6Hz mit einer Amplitude von: 150.72dB\n",
      "Frequenz bei Index 1318: 527.2Hz mit einer Amplitude von: 157.25dB\n",
      "Frequenz bei Index 1319: 527.6Hz mit einer Amplitude von: 161.13dB\n",
      "Frequenz bei Index 1753: 701.2Hz mit einer Amplitude von: 160.08dB\n",
      "Frequenz bei Index 1754: 701.6Hz mit einer Amplitude von: 203.95dB\n"
     ]
    }
   ],
   "source": [
    "for x in range(len(ampl_peaks)):\n",
    "    index = fourier_list.index(ampl_peaks[x])\n",
    "    print('Frequenz bei Index {0}: {1}Hz mit einer Amplitude von: {2:0.2f}dB'\n",
    "          .format(index, freq[index], ampl_peaks[x]))"
   ]
  },
  {
   "cell_type": "code",
   "execution_count": 29,
   "metadata": {},
   "outputs": [],
   "source": [
    "# Build model\n",
    "m = Model()\n",
    " \n",
    "lamb_40 = m.addVar(lb = 0, vtype = GRB.CONTINUOUS, name = 'lamb_40_E2')\n",
    "lamb_41 = m.addVar(lb = 0, vtype = GRB.CONTINUOUS, name = 'lamb_41_F2')\n",
    "lamb_42 = m.addVar(lb = 0, vtype = GRB.CONTINUOUS, name = 'lamb_42_F#2')\n",
    "lamb_43 = m.addVar(lb = 0, vtype = GRB.CONTINUOUS, name = 'lamb_43_G2')\n",
    "\n",
    "lamb_45 = m.addVar(lb = 0, vtype = GRB.CONTINUOUS, name = 'lamb_45_A2')\n",
    "lamb_46 = m.addVar(lb = 0, vtype = GRB.CONTINUOUS, name = 'lamb_46_A#2')\n",
    "lamb_47 = m.addVar(lb = 0, vtype = GRB.CONTINUOUS, name = 'lamb_47_B2')\n",
    "lamb_48 = m.addVar(lb = 0, vtype = GRB.CONTINUOUS, name = 'lamb_48_C3')\n",
    "\n",
    "lamb_50 = m.addVar(lb = 0, vtype = GRB.CONTINUOUS, name = 'lamb_50_D3')\n",
    "lamb_51 = m.addVar(lb = 0, vtype = GRB.CONTINUOUS, name = 'lamb_51_D#3')\n",
    "lamb_52 = m.addVar(lb = 0, vtype = GRB.CONTINUOUS, name = 'lamb_52_E3')\n",
    "lamb_53 = m.addVar(lb = 0, vtype = GRB.CONTINUOUS, name = 'lamb_53_F3')\n",
    "\n",
    "lamb_55 = m.addVar(lb = 0, vtype = GRB.CONTINUOUS, name = 'lamb_55_G3')\n",
    "lamb_56 = m.addVar(lb = 0, vtype = GRB.CONTINUOUS, name = 'lamb_56_G#3')\n",
    "lamb_57 = m.addVar(lb = 0, vtype = GRB.CONTINUOUS, name = 'lamb_57_A3')\n",
    "lamb_58 = m.addVar(lb = 0, vtype = GRB.CONTINUOUS, name = 'lamb_58_A#3')\n",
    "\n",
    "lamb_59 = m.addVar(lb = 0, vtype = GRB.CONTINUOUS, name = 'lamb_59_B3')\n",
    "lamb_60 = m.addVar(lb = 0, vtype = GRB.CONTINUOUS, name = 'lamb_60_C4')\n",
    "lamb_61 = m.addVar(lb = 0, vtype = GRB.CONTINUOUS, name = 'lamb_61_C#4')\n",
    "lamb_62 = m.addVar(lb = 0, vtype = GRB.CONTINUOUS, name = 'lamb_62_D4')\n",
    "\n",
    "lamb_64 = m.addVar(lb = 0, vtype = GRB.CONTINUOUS, name = 'lamb_64_E4')\n",
    "lamb_65 = m.addVar(lb = 0, vtype = GRB.CONTINUOUS, name = 'lamb_65_F4')\n",
    "lamb_66 = m.addVar(lb = 0, vtype = GRB.CONTINUOUS, name = 'lamb_66_F#4')\n",
    "lamb_67 = m.addVar(lb = 0, vtype = GRB.CONTINUOUS, name = 'lamb_67_G4')"
   ]
  },
  {
   "cell_type": "code",
   "execution_count": 30,
   "metadata": {},
   "outputs": [
    {
     "name": "stdout",
     "output_type": "stream",
     "text": [
      "Optimize a model with 0 rows, 24 columns and 0 nonzeros\n",
      "Model has 300 quadratic objective terms\n",
      "Coefficient statistics:\n",
      "  Matrix range     [0e+00, 0e+00]\n",
      "  Objective range  [6e+04, 1e+06]\n",
      "  QObjective range [1e+04, 2e+06]\n",
      "  Bounds range     [0e+00, 0e+00]\n",
      "  RHS range        [0e+00, 0e+00]\n",
      "Presolve time: 0.03s\n",
      "Presolved: 0 rows, 24 columns, 0 nonzeros\n",
      "Presolved model has 300 quadratic objective terms\n",
      "Ordering time: 0.00s\n",
      "\n",
      "Barrier statistics:\n",
      " Free vars  : 23\n",
      " AA' NZ     : 2.530e+02\n",
      " Factor NZ  : 2.760e+02\n",
      " Factor Ops : 4.324e+03 (less than 1 second per iteration)\n",
      " Threads    : 1\n",
      "\n",
      "                  Objective                Residual\n",
      "Iter       Primal          Dual         Primal    Dual     Compl     Time\n",
      "   0  -7.79015947e+09  3.44291516e+06  2.63e+03 6.87e+02  9.79e+05     0s\n",
      "   1  -6.21972482e+06  1.86010178e+06  2.73e+00 7.14e-01  2.06e+03     0s\n",
      "   2   1.56475715e+06  1.87856315e+06  1.07e-01 2.79e-02  1.40e+02     0s\n",
      "   3   1.83882324e+06  1.88064770e+06  1.46e-02 3.83e-03  9.39e+01     0s\n",
      "   4   1.88220853e+06  1.88200285e+06  1.46e-08 3.83e-09  8.57e+00     0s\n",
      "   5   1.88214040e+06  1.88213763e+06  1.83e-12 1.26e-10  1.15e-01     0s\n",
      "   6   1.88213891e+06  1.88213877e+06  1.45e-13 1.49e-10  5.79e-03     0s\n",
      "   7   1.88213887e+06  1.88213886e+06  4.63e-12 8.13e-11  6.55e-04     0s\n",
      "   8   1.88213887e+06  1.88213887e+06  1.65e-12 3.75e-10  1.56e-05     0s\n",
      "   9   1.88213887e+06  1.88213887e+06  6.06e-12 2.21e-10  1.55e-08     0s\n",
      "  10   1.88213887e+06  1.88213887e+06  2.33e-12 2.33e-10  1.55e-11     0s\n",
      "\n",
      "Barrier solved model in 10 iterations and 0.09 seconds\n",
      "Optimal objective 1.88213887e+06\n",
      "\n",
      "lamb_40_E2: 0.0655845\n",
      "lamb_41_F2: 0.414544\n",
      "lamb_42_F#2: 0.0121084\n",
      "lamb_43_G2: 0.0235053\n",
      "lamb_45_A2: 0.060208\n",
      "lamb_46_A#2: 6.43689e-17\n",
      "lamb_47_B2: 1.54726e-16\n",
      "lamb_48_C3: 0.697764\n",
      "lamb_50_D3: 0.198619\n",
      "lamb_51_D#3: 1.92373e-16\n",
      "lamb_52_E3: 3.05264e-17\n",
      "lamb_53_F3: 0.452283\n",
      "lamb_55_G3: 0.00365328\n",
      "lamb_56_G#3: 1.08498e-16\n",
      "lamb_57_A3: 0.93812\n",
      "lamb_58_A#3: 0.0683138\n",
      "lamb_59_B3: 4.99973e-17\n",
      "lamb_60_C4: 0.432725\n",
      "lamb_61_C#4: 0.000321565\n",
      "lamb_62_D4: 1.91102e-17\n",
      "lamb_64_E4: 0.0915039\n",
      "lamb_65_F4: 0.267866\n",
      "lamb_66_F#4: 0.0255251\n",
      "lamb_67_G4: 0.0837525\n"
     ]
    }
   ],
   "source": [
    "#Optimize Signal\n",
    "deviation = 0\n",
    " \n",
    "for sgn in range(len(mischsignal)):\n",
    "    approxi_sgn = ( lamb_40*ton_40[sgn] +\n",
    "                    lamb_41*ton_41[sgn] +\n",
    "                    lamb_42*ton_42[sgn] +\n",
    "                    lamb_43*ton_43[sgn] +\n",
    "                   \n",
    "                    lamb_45*ton_45[sgn] +\n",
    "                    lamb_46*ton_46[sgn] +\n",
    "                    lamb_47*ton_47[sgn] +\n",
    "                    lamb_48*ton_48[sgn] +\n",
    "                   \n",
    "                    lamb_50*ton_50[sgn] +\n",
    "                    lamb_51*ton_51[sgn] +\n",
    "                    lamb_52*ton_52[sgn] +\n",
    "                    lamb_53*ton_53[sgn] +\n",
    "                   \n",
    "                    lamb_55*ton_55[sgn] +\n",
    "                    lamb_56*ton_56[sgn] +\n",
    "                    lamb_57*ton_57[sgn] +\n",
    "                    lamb_58*ton_58[sgn] +\n",
    "                   \n",
    "                    lamb_59*ton_59[sgn] +\n",
    "                    lamb_60*ton_60[sgn] +\n",
    "                    lamb_61*ton_61[sgn] +\n",
    "                    lamb_62*ton_62[sgn] +\n",
    "                   \n",
    "                    lamb_64*ton_64[sgn] +\n",
    "                    lamb_65*ton_65[sgn] +\n",
    "                    lamb_66*ton_66[sgn] +\n",
    "                    lamb_67*ton_67[sgn])\n",
    "   \n",
    "    deviation += ((mischsignal[sgn] - approxi_sgn)*(mischsignal[sgn] - approxi_sgn))\n",
    "\n",
    "m.setObjective(deviation, GRB.MINIMIZE)\n",
    "m.optimize()\n",
    " \n",
    "for v in m.getVars():\n",
    "    print('%s: %g' % (v.varName, v.x))"
   ]
  },
  {
   "cell_type": "code",
   "execution_count": null,
   "metadata": {},
   "outputs": [],
   "source": []
  }
 ],
 "metadata": {
  "kernelspec": {
   "display_name": "Python 3",
   "language": "python",
   "name": "python3"
  },
  "language_info": {
   "codemirror_mode": {
    "name": "ipython",
    "version": 3
   },
   "file_extension": ".py",
   "mimetype": "text/x-python",
   "name": "python",
   "nbconvert_exporter": "python",
   "pygments_lexer": "ipython3",
   "version": "3.7.4"
  }
 },
 "nbformat": 4,
 "nbformat_minor": 2
}
