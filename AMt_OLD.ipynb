{
 "cells": [
  {
   "cell_type": "code",
   "execution_count": null,
   "metadata": {},
   "outputs": [],
   "source": [
    "#https://www.dummies.com/programming/python/plotting-a-sound-file-in-ipython/\n",
    "import matplotlib.pyplot as plt\n",
    "from scipy.io import wavfile as wav\n",
    "from scipy.fftpack import fft\n",
    "import numpy as np\n",
    "from gurobipy import *\n",
    "from IPython.display import Audio\n",
    "import os\n",
    "import glob\n",
    "import untangle"
   ]
  },
  {
   "cell_type": "code",
   "execution_count": null,
   "metadata": {
    "scrolled": false
   },
   "outputs": [],
   "source": [
    "# Read WAV File\n",
    "wav_file = 'audiofile/G53-40100-1111-235.wav'\n",
    "rate, data = wav.read(wav_file)\n",
    "file_length_in_seconds = len(data)/rate\n",
    "\n",
    "wav_file1= 'audiofile/1-E1-Major 07.wav'\n",
    "rate1, data1 = wav.read(wav_file1)\n",
    "file_length_in_seconds1 = len(data1)/rate1\n",
    "\n",
    "%matplotlib inline\n",
    "plt.figure(figsize=(20,5))\n",
    "plt.plot(data)\n",
    "plt.title('wav_file')\n",
    "#plt.show() #not needed if %matplotlib inline is already initialized\n",
    "plt.figure(figsize=(20,5))\n",
    "plt.plot(data1)\n",
    "plt.title('wav_file1')"
   ]
  },
  {
   "cell_type": "code",
   "execution_count": null,
   "metadata": {},
   "outputs": [],
   "source": [
    "Audio(wav_file)"
   ]
  },
  {
   "cell_type": "code",
   "execution_count": null,
   "metadata": {},
   "outputs": [],
   "source": [
    "Audio(wav_file1)"
   ]
  },
  {
   "cell_type": "markdown",
   "metadata": {},
   "source": [
    "## FFT"
   ]
  },
  {
   "cell_type": "code",
   "execution_count": null,
   "metadata": {},
   "outputs": [],
   "source": [
    "# Function for transforming a signal with fourier\n",
    "def fourier_trans(data, rate, begin_time, end_time): \n",
    "    # initialising variables\n",
    "    tp_count = len(data)\n",
    "    values = np.arange(int(tp_count/2))\n",
    "    time_period = tp_count/rate\n",
    "    frequencies = values/time_period\n",
    "    \n",
    "    #at what intervals time points are sampled\n",
    "    sampling_interval = 1/rate;\n",
    "    \n",
    "    #time points\n",
    "    time = np.arange(begin_time, end_time, sampling_interval);\n",
    "    \n",
    "    #Frequency domain representation\n",
    "    fourier_transform = fft(data)/tp_count #normalized the amplitude\n",
    "    fourier_transform = fourier_transform[range(int(len(data)/2))] #exclude sampling frequency\n",
    "    \n",
    "    return frequencies, abs(fourier_transform)"
   ]
  },
  {
   "cell_type": "code",
   "execution_count": null,
   "metadata": {},
   "outputs": [],
   "source": [
    "freq, fourier = fourier_trans(data, rate, 0, file_length_in_seconds)"
   ]
  },
  {
   "cell_type": "code",
   "execution_count": null,
   "metadata": {},
   "outputs": [],
   "source": [
    "freq1, fourier1 = fourier_trans(data1, rate1, 0, file_length_in_seconds1)"
   ]
  },
  {
   "cell_type": "code",
   "execution_count": null,
   "metadata": {},
   "outputs": [],
   "source": [
    "# Frequency domain representation\n",
    "def plot_freq_domain(freq, fourier,name):\n",
    "    plt.figure(figsize=(20,5))\n",
    "    plt.plot(freq, fourier)\n",
    "    plt.xlabel('Frequency in Hz')\n",
    "    plt.ylabel('Amplitude')\n",
    "    plt.xlim(0, 1300)\n",
    "    plt.title(name)\n",
    "    plt.show()"
   ]
  },
  {
   "cell_type": "code",
   "execution_count": null,
   "metadata": {},
   "outputs": [],
   "source": [
    "plot_freq_domain(freq,fourier, wav_file)"
   ]
  },
  {
   "cell_type": "code",
   "execution_count": null,
   "metadata": {},
   "outputs": [],
   "source": [
    "plot_freq_domain(freq1,fourier1, wav_file1)"
   ]
  },
  {
   "cell_type": "code",
   "execution_count": null,
   "metadata": {},
   "outputs": [],
   "source": [
    "ampl_const = 200\n",
    "fourier_list = list(fourier)\n",
    "ampl_peaks = list(filter(lambda i: i > 200, fourier_list))\n",
    "ampl_peaks"
   ]
  },
  {
   "cell_type": "code",
   "execution_count": null,
   "metadata": {},
   "outputs": [],
   "source": [
    "for x in range(len(ampl_peaks)):\n",
    "    index = fourier_list.index(ampl_peaks[x])\n",
    "    print('Frequenz bei Index {0}: {1}Hz mit einer Amplitude von: {2:0.2f}dB'\n",
    "          .format(index, freq[index], ampl_peaks[x]))"
   ]
  },
  {
   "cell_type": "markdown",
   "metadata": {},
   "source": [
    "# Chord Approximation\n"
   ]
  },
  {
   "cell_type": "code",
   "execution_count": null,
   "metadata": {},
   "outputs": [],
   "source": [
    "# Read wav-Files\n",
    "rate_40, data_40 = wav.read('audiofile/G53-40100-1111-00001.wav')\n",
    "rate_41, data_41 = wav.read('audiofile/G53-41101-1111-00002.wav')\n",
    "rate_42, data_42 = wav.read('audiofile/G53-42102-1111-00003.wav')\n",
    "rate_43, data_43 = wav.read('audiofile/G53-43103-1111-00004.wav')\n",
    " \n",
    "rate_45, data_45 = wav.read('audiofile/G53-45200-1111-00014.wav')\n",
    "rate_46, data_46 = wav.read('audiofile/G53-46201-1111-00015.wav')\n",
    "rate_47, data_47 = wav.read('audiofile/G53-47202-1111-00016.wav')\n",
    "rate_48, data_48 = wav.read('audiofile/G53-48203-1111-00017.wav')\n",
    " \n",
    "rate_50, data_50 = wav.read('audiofile/G53-50300-1111-00027.wav')\n",
    "rate_51, data_51 = wav.read('audiofile/G53-51301-1111-00028.wav')\n",
    "rate_52, data_52 = wav.read('audiofile/G53-52302-1111-00029.wav')\n",
    "rate_53, data_53 = wav.read('audiofile/G53-53303-1111-00030.wav')\n",
    " \n",
    "rate_55, data_55 = wav.read('audiofile/G53-55400-1111-00040.wav')\n",
    "rate_56, data_56 = wav.read('audiofile/G53-56401-1111-00041.wav')\n",
    "rate_57, data_57 = wav.read('audiofile/G53-57402-1111-00042.wav')\n",
    "rate_58, data_58 = wav.read('audiofile/G53-58403-1111-00043.wav')\n",
    " \n",
    "rate_59, data_59 = wav.read('audiofile/G53-59500-1111-00053.wav')\n",
    "rate_60, data_60 = wav.read('audiofile/G53-60501-1111-00054.wav')\n",
    "rate_61, data_61 = wav.read('audiofile/G53-61502-1111-00055.wav')\n",
    "rate_62, data_62 = wav.read('audiofile/G53-62503-1111-00056.wav')\n",
    " \n",
    "rate_64, data_64 = wav.read('audiofile/G53-64600-1111-00066.wav')\n",
    "rate_65, data_65 = wav.read('audiofile/G53-65601-1111-00067.wav')\n",
    "rate_66, data_66 = wav.read('audiofile/G53-66602-1111-00068.wav')\n",
    "rate_67, data_67 = wav.read('audiofile/G53-67603-1111-00069.wav')\n",
    "\n",
    "# Chords\n",
    "#rate_chord, data_chord = wav.read('audiofile/1-E1-Major 00.wav')\n",
    "rate_chord, data_chord = wav.read('audiofile/1-E1-Major 01.wav')\n",
    "\n",
    "# Single note\n",
    "#rate_chord, data_chord = wav.read('audiofile/G53-65601-1111-00067.wav')\n",
    "\n",
    "# Single note played on another guitar\n",
    "#rate_chord, data_chord = wav.read('audiofile/G53-42102-1111-237.wav')\n",
    "\n"
   ]
  },
  {
   "cell_type": "code",
   "execution_count": null,
   "metadata": {},
   "outputs": [],
   "source": [
    "#freq, mischsignal = fourier_trans(data_chord, rate_chord, 0, 2.5)\n",
    "freq, mischsignal = fourier_trans(data_chord, rate_chord, 1, 1.2)\n",
    " \n",
    "# 1. Saite Bund 0 - 3\n",
    "_, ton_40      = fourier_trans(data_40, rate_40, 0, 2.5)\n",
    "_, ton_41      = fourier_trans(data_41, rate_41, 0, 2.5)\n",
    "_, ton_42      = fourier_trans(data_42, rate_42, 0, 2.5)\n",
    "_, ton_43      = fourier_trans(data_43, rate_43, 0, 2.5)\n",
    " \n",
    "# 2. Saite Bund 0 - 3\n",
    "_, ton_45      = fourier_trans(data_45, rate_45, 0, 2.5)\n",
    "_, ton_46      = fourier_trans(data_46, rate_46, 0, 2.5)\n",
    "_, ton_47      = fourier_trans(data_47, rate_47, 0, 2.5)\n",
    "_, ton_48      = fourier_trans(data_48, rate_48, 0, 2.5)\n",
    " \n",
    "# 3. Saite Bund 0 - 3\n",
    "_, ton_50      = fourier_trans(data_50, rate_50, 0, 2.5)\n",
    "_, ton_51      = fourier_trans(data_51, rate_51, 0, 2.5)\n",
    "_, ton_52      = fourier_trans(data_52, rate_42, 0, 2.5)\n",
    "_, ton_53      = fourier_trans(data_53, rate_43, 0, 2.5)\n",
    " \n",
    "# 4. Saite Bund 0 - 3\n",
    "_, ton_55      = fourier_trans(data_55, rate_55, 0, 2.5)\n",
    "_, ton_56      = fourier_trans(data_56, rate_56, 0, 2.5)\n",
    "_, ton_57      = fourier_trans(data_57, rate_57, 0, 2.5)\n",
    "_, ton_58      = fourier_trans(data_58, rate_58, 0, 2.5)\n",
    " \n",
    "# 5. Saite Bund 0 - 3\n",
    "_, ton_59      = fourier_trans(data_59, rate_59, 0, 2.5)\n",
    "_, ton_60      = fourier_trans(data_60, rate_60, 0, 2.5)\n",
    "_, ton_61      = fourier_trans(data_61, rate_61, 0, 2.5)\n",
    "_, ton_62      = fourier_trans(data_62, rate_62, 0, 2.5)\n",
    " \n",
    "# 6. Saite Bund 0 - 3\n",
    "_, ton_64      = fourier_trans(data_64, rate_64, 0, 2.5)\n",
    "_, ton_65      = fourier_trans(data_65, rate_65, 0, 2.5)\n",
    "_, ton_66      = fourier_trans(data_66, rate_66, 0, 2.5)\n",
    "_, ton_67      = fourier_trans(data_67, rate_67, 0, 2.5)\n"
   ]
  },
  {
   "cell_type": "code",
   "execution_count": null,
   "metadata": {},
   "outputs": [],
   "source": [
    "# plot mischsignal\n",
    "plot_freq_domain(freq, mischsignal, 'Mischsignal')"
   ]
  },
  {
   "cell_type": "code",
   "execution_count": null,
   "metadata": {},
   "outputs": [],
   "source": [
    "ampl_const = 200\n",
    "fourier_list = list(mischsignal)\n",
    "ampl_peaks = list(filter(lambda i: i > 150, fourier_list))"
   ]
  },
  {
   "cell_type": "code",
   "execution_count": null,
   "metadata": {},
   "outputs": [],
   "source": [
    "for x in range(len(ampl_peaks)):\n",
    "    index = fourier_list.index(ampl_peaks[x])\n",
    "    print('Frequenz bei Index {0}: {1}Hz mit einer Amplitude von: {2:0.2f}dB'\n",
    "          .format(index, freq[index], ampl_peaks[x]))"
   ]
  },
  {
   "cell_type": "markdown",
   "metadata": {},
   "source": [
    "# Dictionary"
   ]
  },
  {
   "cell_type": "code",
   "execution_count": null,
   "metadata": {},
   "outputs": [],
   "source": [
    "# Read WAV File\n",
    "\n",
    "audio_files = []\n",
    "path_wav = \"audiofile\"\n",
    "path_xml = \"annotation\"\n",
    "\n",
    "# Init dict\n",
    "ref_note = {}\n",
    "\n",
    "note = 0\n",
    "for filename in glob.glob(os.path.join(path_xml, '*.xml')):\n",
    "    \n",
    "    # Read data from xml\n",
    "    obj = untangle.parse(filename)\n",
    "    audiofile = obj.instrumentRecording.globalParameter.audioFileName.cdata\n",
    "    pitch = obj.instrumentRecording.transcription.event.pitch.cdata\n",
    "    onsetSec = obj.instrumentRecording.transcription.event.onsetSec.cdata\n",
    "    offsetSec = obj.instrumentRecording.transcription.event.offsetSec.cdata\n",
    "    fretNumber = obj.instrumentRecording.transcription.event.fretNumber.cdata\n",
    "    stringNumber = obj.instrumentRecording.transcription.event.stringNumber.cdata\n",
    "    \n",
    "    # Read wav\n",
    "    wav_file = path_wav + '/' + audiofile\n",
    "    rate, data = wav.read(wav_file)\n",
    "    \n",
    "    # Calc FFT\n",
    "    #freq, fourier = fourier_trans(data, rate, float(onsetSec), float(offsetSec))\n",
    "    freq, fourier = fourier_trans(data, rate, 1, 1.2)\n",
    "    \n",
    "    # Update Dict\n",
    "    #ref_note[filename] = {\n",
    "    ref_note[note] = {\n",
    "        \"pitch\": int(pitch),\n",
    "        \"fret\": int(fretNumber),\n",
    "        \"string\": int(stringNumber),\n",
    "        \"rate\": rate,\n",
    "        \"data\": data,\n",
    "        \"onset\": float(onsetSec), \n",
    "        \"offset\": float(offsetSec), \n",
    "        \"freq\": freq,\n",
    "        \"fourier\": fourier,\n",
    "    }\n",
    "    note+=1"
   ]
  },
  {
   "cell_type": "code",
   "execution_count": null,
   "metadata": {},
   "outputs": [],
   "source": [
    "len(ref_note[6]['fourier'])"
   ]
  },
  {
   "cell_type": "code",
   "execution_count": null,
   "metadata": {},
   "outputs": [],
   "source": [
    "# Build model\n",
    "m = Model()\n",
    "\n",
    "lamb_40 = m.addVar(lb = 0, vtype = GRB.CONTINUOUS, name = 'lamb_40_E2')\n",
    "lamb_41 = m.addVar(lb = 0, vtype = GRB.CONTINUOUS, name = 'lamb_41_F2')\n",
    "lamb_42 = m.addVar(lb = 0, vtype = GRB.CONTINUOUS, name = 'lamb_42_F#2')\n",
    "lamb_43 = m.addVar(lb = 0, vtype = GRB.CONTINUOUS, name = 'lamb_43_G2')\n",
    "\n",
    "lamb_45 = m.addVar(lb = 0, vtype = GRB.CONTINUOUS, name = 'lamb_45_A2')\n",
    "lamb_46 = m.addVar(lb = 0, vtype = GRB.CONTINUOUS, name = 'lamb_46_A#2')\n",
    "lamb_47 = m.addVar(lb = 0, vtype = GRB.CONTINUOUS, name = 'lamb_47_B2')\n",
    "lamb_48 = m.addVar(lb = 0, vtype = GRB.CONTINUOUS, name = 'lamb_48_C3')\n",
    "\n",
    "lamb_50 = m.addVar(lb = 0, vtype = GRB.CONTINUOUS, name = 'lamb_50_D3')\n",
    "lamb_51 = m.addVar(lb = 0, vtype = GRB.CONTINUOUS, name = 'lamb_51_D#3')\n",
    "lamb_52 = m.addVar(lb = 0, vtype = GRB.CONTINUOUS, name = 'lamb_52_E3')\n",
    "lamb_53 = m.addVar(lb = 0, vtype = GRB.CONTINUOUS, name = 'lamb_53_F3')\n",
    "\n",
    "lamb_55 = m.addVar(lb = 0, vtype = GRB.CONTINUOUS, name = 'lamb_55_G3')\n",
    "lamb_56 = m.addVar(lb = 0, vtype = GRB.CONTINUOUS, name = 'lamb_56_G#3')\n",
    "lamb_57 = m.addVar(lb = 0, vtype = GRB.CONTINUOUS, name = 'lamb_57_A3')\n",
    "lamb_58 = m.addVar(lb = 0, vtype = GRB.CONTINUOUS, name = 'lamb_58_A#3')\n",
    "\n",
    "lamb_59 = m.addVar(lb = 0, vtype = GRB.CONTINUOUS, name = 'lamb_59_B3')\n",
    "lamb_60 = m.addVar(lb = 0, vtype = GRB.CONTINUOUS, name = 'lamb_60_C4')\n",
    "lamb_61 = m.addVar(lb = 0, vtype = GRB.CONTINUOUS, name = 'lamb_61_C#4')\n",
    "lamb_62 = m.addVar(lb = 0, vtype = GRB.CONTINUOUS, name = 'lamb_62_D4')\n",
    "\n",
    "lamb_64 = m.addVar(lb = 0, vtype = GRB.CONTINUOUS, name = 'lamb_64_E4')\n",
    "lamb_65 = m.addVar(lb = 0, vtype = GRB.CONTINUOUS, name = 'lamb_65_F4')\n",
    "lamb_66 = m.addVar(lb = 0, vtype = GRB.CONTINUOUS, name = 'lamb_66_F#4')\n",
    "lamb_67 = m.addVar(lb = 0, vtype = GRB.CONTINUOUS, name = 'lamb_67_G4')\n",
    "m.update()"
   ]
  },
  {
   "cell_type": "code",
   "execution_count": null,
   "metadata": {},
   "outputs": [],
   "source": [
    "# Build Model\n",
    "m = Model()\n",
    "\n",
    "lambs = []\n",
    "for lamb in range(len(ref_note)):\n",
    "    lambs.append(m.addVar(lb = 0, vtype = GRB.CONTINUOUS, name = 'lamb_' + str(lamb)))\n",
    "m.update()"
   ]
  },
  {
   "cell_type": "code",
   "execution_count": null,
   "metadata": {},
   "outputs": [],
   "source": [
    "len(ref_note)"
   ]
  },
  {
   "cell_type": "code",
   "execution_count": null,
   "metadata": {},
   "outputs": [],
   "source": [
    "lambs[77]"
   ]
  },
  {
   "cell_type": "code",
   "execution_count": null,
   "metadata": {},
   "outputs": [],
   "source": [
    "#Optimize Signal\n",
    "deviation = 0\n",
    " \n",
    "for sgn in range(len(mischsignal)):\n",
    "    approxi_sgn = ( lamb_40*ton_40[sgn] +\n",
    "                    lamb_41*ton_41[sgn] +\n",
    "                    lamb_42*ton_42[sgn] +\n",
    "                    lamb_43*ton_43[sgn] +\n",
    "                   \n",
    "                    lamb_45*ton_45[sgn] +\n",
    "                    lamb_46*ton_46[sgn] +\n",
    "                    lamb_47*ton_47[sgn] +\n",
    "                    lamb_48*ton_48[sgn] +\n",
    "                   \n",
    "                    lamb_50*ton_50[sgn] +\n",
    "                    lamb_51*ton_51[sgn] +\n",
    "                    lamb_52*ton_52[sgn] +\n",
    "                    lamb_53*ton_53[sgn] +\n",
    "                   \n",
    "                    lamb_55*ton_55[sgn] +\n",
    "                    lamb_56*ton_56[sgn] +\n",
    "                    lamb_57*ton_57[sgn] +\n",
    "                    lamb_58*ton_58[sgn] +\n",
    "                   \n",
    "                    lamb_59*ton_59[sgn] +\n",
    "                    lamb_60*ton_60[sgn] +\n",
    "                    lamb_61*ton_61[sgn] +\n",
    "                    lamb_62*ton_62[sgn] +\n",
    "                   \n",
    "                    lamb_64*ton_64[sgn] +\n",
    "                    lamb_65*ton_65[sgn] +\n",
    "                    lamb_66*ton_66[sgn] +\n",
    "                    lamb_67*ton_67[sgn])\n",
    "   \n",
    "    deviation += ((mischsignal[sgn] - approxi_sgn)*(mischsignal[sgn] - approxi_sgn))\n",
    "\n",
    "m.setObjective(deviation, GRB.MINIMIZE)\n",
    "m.optimize()\n",
    " \n",
    "for v in m.getVars():\n",
    "    print('%s: %g' % (v.varName, v.x))"
   ]
  },
  {
   "cell_type": "code",
   "execution_count": null,
   "metadata": {},
   "outputs": [],
   "source": [
    "len(mischsignal)"
   ]
  },
  {
   "cell_type": "code",
   "execution_count": null,
   "metadata": {},
   "outputs": [],
   "source": [
    "#Optimize Signal\n",
    "deviation = 0\n",
    "approxi_sgn = 0\n",
    " \n",
    "#for sgn in range(len(mischsignal)):\n",
    "for sgn in range(50):\n",
    "    for lamb in range(len(lambs)):\n",
    "    #for lamb in range(10):\n",
    "        approxi_sgn += lambs[lamb] * ref_note[lamb]['fourier'][sgn]\n",
    "        \n",
    "    deviation += ((mischsignal[sgn] - approxi_sgn)*(mischsignal[sgn] - approxi_sgn))\n",
    "    #print('sgn: ', approxi_sgn)"
   ]
  },
  {
   "cell_type": "code",
   "execution_count": null,
   "metadata": {},
   "outputs": [],
   "source": [
    "m.setObjective(deviation, GRB.MINIMIZE)\n",
    "m.optimize()\n",
    " \n",
    "for v in m.getVars():\n",
    "    print('%s: %g' % (v.varName, v.x))"
   ]
  },
  {
   "cell_type": "code",
   "execution_count": null,
   "metadata": {},
   "outputs": [],
   "source": []
  }
 ],
 "metadata": {
  "kernelspec": {
   "display_name": "Python 3",
   "language": "python",
   "name": "python3"
  },
  "language_info": {
   "codemirror_mode": {
    "name": "ipython",
    "version": 3
   },
   "file_extension": ".py",
   "mimetype": "text/x-python",
   "name": "python",
   "nbconvert_exporter": "python",
   "pygments_lexer": "ipython3",
   "version": "3.7.4"
  }
 },
 "nbformat": 4,
 "nbformat_minor": 2
}
