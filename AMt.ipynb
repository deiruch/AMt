{
 "cells": [
  {
   "cell_type": "code",
   "execution_count": null,
   "metadata": {},
   "outputs": [],
   "source": [
    "#https://www.dummies.com/programming/python/plotting-a-sound-file-in-ipython/\n",
    "import matplotlib.pyplot as plt\n",
    "from scipy.io import wavfile as wav\n",
    "from scipy.fftpack import fft\n",
    "import numpy as np\n",
    "from gurobipy import *\n",
    "from IPython.display import Audio\n",
    "import os\n",
    "import glob\n",
    "import untangle"
   ]
  },
  {
   "cell_type": "markdown",
   "metadata": {},
   "source": [
    "# Functions"
   ]
  },
  {
   "cell_type": "code",
   "execution_count": 2,
   "metadata": {},
   "outputs": [],
   "source": [
    "# Function for transforming a signal with fourier\n",
    "def fourier_trans(data, rate, begin_time, end_time): \n",
    "    # initialising variables\n",
    "    tp_count = len(data)\n",
    "    values = np.arange(int(tp_count/2))\n",
    "    time_period = tp_count/rate\n",
    "    frequencies = values/time_period\n",
    "    \n",
    "    #at what intervals time points are sampled\n",
    "    sampling_interval = 1/rate;\n",
    "    \n",
    "    #time points\n",
    "    time = np.arange(begin_time, end_time, sampling_interval);\n",
    "    \n",
    "    #Frequency domain representation\n",
    "    fourier_transform = fft(data)/tp_count #normalized the amplitude\n",
    "    fourier_transform = fourier_transform[range(int(len(data)/2))] #exclude sampling frequency\n",
    "    \n",
    "    return frequencies, abs(fourier_transform)\n",
    "\n",
    "# Frequency domain representation\n",
    "def plot_freq_domain(freq, fourier,name):\n",
    "    plt.figure(figsize=(20,5))\n",
    "    plt.plot(freq, fourier)\n",
    "    plt.xlabel('Frequency in Hz')\n",
    "    plt.ylabel('Amplitude')\n",
    "    plt.xlim(0, 1300)\n",
    "    plt.title(name)\n",
    "    plt.show()"
   ]
  },
  {
   "cell_type": "markdown",
   "metadata": {},
   "source": [
    "# Dictonary"
   ]
  },
  {
   "cell_type": "code",
   "execution_count": 3,
   "metadata": {},
   "outputs": [],
   "source": [
    "# Read WAV File\n",
    "\n",
    "audio_files = []\n",
    "path_wav = \"audiofile\"\n",
    "path_xml = \"annotation\"\n",
    "\n",
    "# Init dict\n",
    "ref_note = {}\n",
    "\n",
    "note = 0\n",
    "\n",
    "for filename in glob.glob(os.path.join(path_xml, '*.xml')):\n",
    "    \n",
    "    # Read data from xml\n",
    "    obj = untangle.parse(filename)\n",
    "    audiofile = obj.instrumentRecording.globalParameter.audioFileName.cdata\n",
    "    pitch = obj.instrumentRecording.transcription.event.pitch.cdata\n",
    "    onsetSec = obj.instrumentRecording.transcription.event.onsetSec.cdata\n",
    "    offsetSec = obj.instrumentRecording.transcription.event.offsetSec.cdata\n",
    "    fretNumber = obj.instrumentRecording.transcription.event.fretNumber.cdata\n",
    "    stringNumber = obj.instrumentRecording.transcription.event.stringNumber.cdata\n",
    "    \n",
    "    # Read wav\n",
    "    wav_file = path_wav + '/' + audiofile\n",
    "    rate, data = wav.read(wav_file)\n",
    "    \n",
    "    # Calc FFT\n",
    "    #freq, fourier = fourier_trans(data, rate, float(onsetSec), float(offsetSec))\n",
    "    freq, fourier = fourier_trans(data, rate, 1, 1.2)\n",
    "    \n",
    "    # Update Dict\n",
    "    #ref_note[filename] = {\n",
    "    ref_note[note] = {\n",
    "        \"pitch\": int(pitch),\n",
    "        \"fret\": int(fretNumber),\n",
    "        \"string\": int(stringNumber),\n",
    "        \"rate\": rate,\n",
    "        \"data\": data,\n",
    "        \"onset\": float(onsetSec), \n",
    "        \"offset\": float(offsetSec), \n",
    "        \"freq\": freq,\n",
    "        \"fourier\": fourier,\n",
    "    }\n",
    "    note+=1"
   ]
  },
  {
   "cell_type": "markdown",
   "metadata": {},
   "source": [
    "# Chord Approximation\n"
   ]
  },
  {
   "cell_type": "code",
   "execution_count": 4,
   "metadata": {},
   "outputs": [],
   "source": [
    "# Mischsignal\n",
    "#rate_chord, data_chord = wav.read('audiofile/1-E1-Major 00.wav')\n",
    "#rate_chord, data_chord = wav.read('audiofile/1-E1-Major 01.wav')\n",
    "\n",
    "# Single note\n",
    "rate_chord, data_chord = wav.read('audiofile/G53-65601-1111-00067.wav')\n",
    "\n",
    "# Single note played on another guitar\n",
    "#rate_chord, data_chord = wav.read('audiofile/G53-42102-1111-237.wav')\n",
    "\n",
    "#freq, mischsignal = fourier_trans(data_chord, rate_chord, 0, 2.5)\n",
    "freq, mischsignal = fourier_trans(data_chord, rate_chord, 1, 1.2)"
   ]
  },
  {
   "cell_type": "code",
   "execution_count": 5,
   "metadata": {},
   "outputs": [
    {
     "name": "stdout",
     "output_type": "stream",
     "text": [
      "Länge Mischsignal:  55125\n",
      "Länge Data:  110250\n"
     ]
    }
   ],
   "source": [
    "print('Länge Mischsignal: ', len(mischsignal))\n",
    "print('Länge Data: ', len(data_chord))"
   ]
  },
  {
   "cell_type": "code",
   "execution_count": 6,
   "metadata": {},
   "outputs": [
    {
     "data": {
      "image/png": "[encoded data removed]",
      "text/plain": [
       "<Figure size 1440x360 with 1 Axes>"
      ]
     },
     "metadata": {
      "needs_background": "light"
     },
     "output_type": "display_data"
    }
   ],
   "source": [
    "# plot mischsignal\n",
    "plot_freq_domain(freq, mischsignal, 'Mischsignal')"
   ]
  },
  {
   "cell_type": "code",
   "execution_count": 7,
   "metadata": {},
   "outputs": [
    {
     "data": {
      "text/plain": [
       "\"\\nampl_const = 200\\nfourier_list = list(mischsignal)\\nampl_peaks = list(filter(lambda i: i > 150, fourier_list))\\n\\nfor x in range(len(ampl_peaks)):\\n    index = fourier_list.index(ampl_peaks[x])\\n    print('Frequenz bei Index {0}: {1}Hz mit einer Amplitude von: {2:0.2f}dB'\\n          .format(index, freq[index], ampl_peaks[x]))\\n\""
      ]
     },
     "execution_count": 7,
     "metadata": {},
     "output_type": "execute_result"
    }
   ],
   "source": [
    "'''\n",
    "ampl_const = 200\n",
    "fourier_list = list(mischsignal)\n",
    "ampl_peaks = list(filter(lambda i: i > 150, fourier_list))\n",
    "\n",
    "for x in range(len(ampl_peaks)):\n",
    "    index = fourier_list.index(ampl_peaks[x])\n",
    "    print('Frequenz bei Index {0}: {1}Hz mit einer Amplitude von: {2:0.2f}dB'\n",
    "          .format(index, freq[index], ampl_peaks[x]))\n",
    "'''"
   ]
  },
  {
   "cell_type": "markdown",
   "metadata": {},
   "source": [
    "# Gurobi"
   ]
  },
  {
   "cell_type": "code",
   "execution_count": 8,
   "metadata": {},
   "outputs": [
    {
     "name": "stdout",
     "output_type": "stream",
     "text": [
      "Academic license - for non-commercial use only\n"
     ]
    }
   ],
   "source": [
    "# Build Model\n",
    "m = Model()\n",
    "\n",
    "lambs = []\n",
    "for lamb in range(len(ref_note)):\n",
    "    lambs.append(m.addVar(lb = 0, vtype = GRB.CONTINUOUS, name = 'lamb_' + str(lamb)))\n",
    "m.update()"
   ]
  },
  {
   "cell_type": "code",
   "execution_count": 9,
   "metadata": {},
   "outputs": [
    {
     "name": "stdout",
     "output_type": "stream",
     "text": [
      "Deviation is calculated.\n",
      "Wall time: 4min 12s\n"
     ]
    }
   ],
   "source": [
    "%%time\n",
    "#Optimize Signal\n",
    "\n",
    "deviation = 0\n",
    "approxi_sgn = 0\n",
    " \n",
    "#for sgn in range(len(mischsignal)):\n",
    "for sgn in range(50):\n",
    "    for lamb in range(len(lambs)):\n",
    "    #for lamb in range(10):\n",
    "        approxi_sgn += lambs[lamb] * ref_note[lamb]['fourier'][sgn]\n",
    "        \n",
    "    deviation += ((mischsignal[sgn] - approxi_sgn)*(mischsignal[sgn] - approxi_sgn))\n",
    "    #print('sgn: ', approxi_sgn)\n",
    "print('Deviation is calculated.')"
   ]
  },
  {
   "cell_type": "code",
   "execution_count": 10,
   "metadata": {},
   "outputs": [
    {
     "name": "stdout",
     "output_type": "stream",
     "text": [
      "Optimize a model with 0 rows, 78 columns and 0 nonzeros\n",
      "Model has 3081 quadratic objective terms\n",
      "Coefficient statistics:\n",
      "  Matrix range     [0e+00, 0e+00]\n",
      "  Objective range  [4e+02, 6e+03]\n",
      "  QObjective range [2e+03, 7e+05]\n",
      "  Bounds range     [0e+00, 0e+00]\n",
      "  RHS range        [0e+00, 0e+00]\n",
      "Warning: diagonal adjustment of 6.1e-08 performed to make Q PSD\n",
      "Presolve time: 0.14s\n",
      "Presolved: 0 rows, 78 columns, 0 nonzeros\n",
      "Presolved model has 3081 quadratic objective terms\n",
      "Ordering time: 0.00s\n",
      "\n",
      "Barrier statistics:\n",
      " Free vars  : 50\n",
      " AA' NZ     : 1.225e+03\n",
      " Factor NZ  : 1.275e+03\n",
      " Factor Ops : 4.293e+04 (less than 1 second per iteration)\n",
      " Threads    : 1\n",
      "\n",
      "                  Objective                Residual\n",
      "Iter       Primal          Dual         Primal    Dual     Compl     Time\n",
      "   0  -1.24068154e+08  5.35299977e+01  5.23e+04 4.31e+00  1.00e+06     0s\n",
      "   1  -1.20279307e+07 -1.06449775e+05  5.12e+03 4.22e-01  1.03e+05     0s\n",
      "   2  -5.45883378e+05 -7.09197149e+03  2.33e+02 1.92e-02  4.94e+03     0s\n",
      "   3  -2.01625407e+04 -8.82695216e+02  8.83e+00 7.28e-04  2.09e+02     0s\n",
      "   4  -5.26508904e+02 -6.24069140e+01  2.35e-01 1.93e-05  6.92e+00     0s\n",
      "   5   3.01270012e+01 -2.79510364e+01  2.35e-07 1.93e-11  7.45e-01     0s\n",
      "   6   1.96845839e+01  1.47658430e+01  2.35e-13 1.19e-12  6.31e-02     0s\n",
      "   7   1.71584887e+01  1.53577403e+01  2.08e-17 1.76e-12  2.31e-02     0s\n",
      "   8   1.61289228e+01  1.60406134e+01  3.47e-17 1.72e-12  1.13e-03     0s\n",
      "   9   1.60458846e+01  1.60457718e+01  9.30e-16 1.46e-12  1.45e-06     0s\n",
      "  10   1.60457778e+01  1.60457777e+01  6.38e-16 1.28e-12  1.45e-09     0s\n",
      "\n",
      "Barrier solved model in 10 iterations and 0.20 seconds\n",
      "Optimal objective 1.60457778e+01\n",
      "\n",
      "lamb_0: 2.18712e-12\n",
      "lamb_1: 6.08837e-12\n",
      "lamb_2: 4.18366e-12\n",
      "lamb_3: 2.03121e-12\n",
      "lamb_4: 3.60883e-12\n",
      "lamb_5: 1.61899e-12\n",
      "lamb_6: 4.29879e-12\n",
      "lamb_7: 3.47394e-12\n",
      "lamb_8: 3.74642e-12\n",
      "lamb_9: 3.01561e-12\n",
      "lamb_10: 1.0312e-11\n",
      "lamb_11: 3.96141e-12\n",
      "lamb_12: 9.04749e-12\n",
      "lamb_13: 4.87193e-12\n",
      "lamb_14: 7.99381e-12\n",
      "lamb_15: 4.9978e-12\n",
      "lamb_16: 8.32047e-12\n",
      "lamb_17: 1.04564e-11\n",
      "lamb_18: 2.49802e-12\n",
      "lamb_19: 1.37347e-11\n",
      "lamb_20: 0.0749992\n",
      "lamb_21: 3.46443e-12\n",
      "lamb_22: 5.46744e-12\n",
      "lamb_23: 2.2489e-11\n",
      "lamb_24: 6.54671e-12\n",
      "lamb_25: 1.28968e-11\n",
      "lamb_26: 9.28377e-12\n",
      "lamb_27: 3.16987e-11\n",
      "lamb_28: 8.79333e-12\n",
      "lamb_29: 7.68715e-11\n",
      "lamb_30: 6.57716e-12\n",
      "lamb_31: 2.58074e-11\n",
      "lamb_32: 4.30968e-11\n",
      "lamb_33: 2.63609e-11\n",
      "lamb_34: 3.61612e-11\n",
      "lamb_35: 8.67077e-12\n",
      "lamb_36: 2.35228e-10\n",
      "lamb_37: 1.04457e-10\n",
      "lamb_38: 6.18694e-12\n",
      "lamb_39: 5.42993e-11\n",
      "lamb_40: 5.60589e-12\n",
      "lamb_41: 2.48116e-10\n",
      "lamb_42: 2.34738e-11\n",
      "lamb_43: 8.67173e-12\n",
      "lamb_44: 2.37974e-12\n",
      "lamb_45: 2.15767e-11\n",
      "lamb_46: 1.81787e-11\n",
      "lamb_47: 3.26202e-12\n",
      "lamb_48: 1.29958e-11\n",
      "lamb_49: 1.23972e-08\n",
      "lamb_50: 4.60436e-12\n",
      "lamb_51: 1.61531e-11\n",
      "lamb_52: 8.59027e-12\n",
      "lamb_53: 2.34284e-11\n",
      "lamb_54: 3.59851e-12\n",
      "lamb_55: 3.18326e-12\n",
      "lamb_56: 3.1297e-11\n",
      "lamb_57: 2.3352e-12\n",
      "lamb_58: 3.26463e-12\n",
      "lamb_59: 1.02383e-11\n",
      "lamb_60: 3.46214e-12\n",
      "lamb_61: 3.79359e-12\n",
      "lamb_62: 3.65341e-11\n",
      "lamb_63: 1.13873e-12\n",
      "lamb_64: 4.01409e-12\n",
      "lamb_65: 4.15723e-12\n",
      "lamb_66: 2.76055e-12\n",
      "lamb_67: 4.68457e-12\n",
      "lamb_68: 2.56886e-12\n",
      "lamb_69: 2.88582e-12\n",
      "lamb_70: 3.33619e-12\n",
      "lamb_71: 1.54418e-11\n",
      "lamb_72: 1.65227e-12\n",
      "lamb_73: 2.99836e-12\n",
      "lamb_74: 4.3961e-12\n",
      "lamb_75: 4.11754e-12\n",
      "lamb_76: 1.0735e-11\n",
      "lamb_77: 2.40238e-12\n",
      "Wall time: 7min 7s\n"
     ]
    }
   ],
   "source": [
    "%%time\n",
    "m.setObjective(deviation, GRB.MINIMIZE)\n",
    "m.optimize()\n",
    " \n",
    "for v in m.getVars():\n",
    "    print('%s: %g' % (v.varName, v.x))"
   ]
  },
  {
   "cell_type": "code",
   "execution_count": null,
   "metadata": {},
   "outputs": [],
   "source": []
  }
 ],
 "metadata": {
  "kernelspec": {
   "display_name": "Python 3",
   "language": "python",
   "name": "python3"
  },
  "language_info": {
   "codemirror_mode": {
    "name": "ipython",
    "version": 3
   },
   "file_extension": ".py",
   "mimetype": "text/x-python",
   "name": "python",
   "nbconvert_exporter": "python",
   "pygments_lexer": "ipython3",
   "version": "3.7.4"
  }
 },
 "nbformat": 4,
 "nbformat_minor": 2
}
