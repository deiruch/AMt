{
 "cells": [
  {
   "cell_type": "code",
   "execution_count": null,
   "metadata": {},
   "outputs": [],
   "source": [
    "import numpy as np\n",
    "import matplotlib.pyplot as plt\n",
    "from scipy.io import wavfile as wav"
   ]
  },
  {
   "cell_type": "markdown",
   "metadata": {},
   "source": [
    "https://pythontic.com/visualization/signals/fouriertransform_fft"
   ]
  },
  {
   "cell_type": "code",
   "execution_count": null,
   "metadata": {},
   "outputs": [],
   "source": [
    "# Python example - Fourier transform using numpy.fft method\n",
    "import numpy as np\n",
    "import matplotlib.pyplot as plotter\n",
    " \n",
    "# How many time points are needed i,e., Sampling Frequency\n",
    "samplingFrequency   = 100;\n",
    "\n",
    "# At what intervals time points are sampled\n",
    "samplingInterval       = 1 / samplingFrequency;\n",
    "\n",
    "# Begin time period of the signals\n",
    "beginTime           = 0;\n",
    "\n",
    "# End time period of the signals\n",
    "endTime             = 10; \n",
    "\n",
    "# Frequency of the signals (in Hz)\n",
    "signal1Frequency     = 1;\n",
    "signal2Frequency     = 2;\n",
    "signal3Frequency     = 3;\n",
    "\n",
    "#Amplitude of the signals (in dB)\n",
    "signal1Amplitude     = 3;\n",
    "signal2Amplitude     = 2;\n",
    "signal3Amplitude     = 1;\n",
    "\n",
    "# Time points\n",
    "time        = np.arange(beginTime, endTime, samplingInterval);\n",
    "\n",
    "# Create two sine waves\n",
    "signal1 = signal1Amplitude*np.sin(2*np.pi*signal1Frequency*time)\n",
    "signal2 = signal2Amplitude*np.sin(2*np.pi*signal2Frequency*time)\n",
    "signal3 = signal3Amplitude*np.sin(2*np.pi*signal3Frequency*time)\n",
    "\n",
    "# Create subplot\n",
    "figure, axis = plotter.subplots(5, 1)\n",
    "plotter.subplots_adjust(hspace=1) \n",
    "\n",
    "# Time domain representation for sine wave 1\n",
    "axis[0].set_title('Sine wave with a frequency of 1 Hz')\n",
    "axis[0].plot(time, signal1)\n",
    "axis[0].set_xlabel('Time')\n",
    "axis[0].set_ylabel('Amplitude')\n",
    "\n",
    "# Time domain representation for sine wave 2\n",
    "axis[1].set_title('Sine wave with a frequency of 2 Hz')\n",
    "axis[1].plot(time, signal2)\n",
    "axis[1].set_xlabel('Time')\n",
    "axis[1].set_ylabel('Amplitude')\n",
    "\n",
    "# Time domain representation for sine wave 3\n",
    "axis[2].set_title('Sine wave with a frequency of 3 Hz')\n",
    "axis[2].plot(time, signal3)\n",
    "axis[2].set_xlabel('Time')\n",
    "axis[2].set_ylabel('Amplitude')\n",
    " \n",
    "# Add the sine waves\n",
    "signal = signal1 + signal2 + signal3\n",
    "\n",
    "# Time domain representation of the resultant sine wave\n",
    "axis[3].set_title('Sine wave with multiple frequencies')\n",
    "axis[3].plot(time, signal)\n",
    "axis[3].set_xlabel('Time')\n",
    "axis[3].set_ylabel('Amplitude')\n",
    "\n",
    "# Frequency domain representation\n",
    "fourierTransform = np.fft.fft(signal)/len(signal)           # Normalize amplitude\n",
    "fourierTransform = fourierTransform[range(int(len(signal)/2))] # Exclude sampling frequency\n",
    "\n",
    "tpCount     = len(signal)\n",
    "values      = np.arange(int(tpCount/2))\n",
    "timePeriod  = tpCount/samplingFrequency\n",
    "frequencies = values/timePeriod\n",
    " \n",
    "# Frequency domain representation\n",
    "axis[4].set_title('Fourier transform depicting the frequency components')\n",
    "axis[4].plot(frequencies, abs(fourierTransform))\n",
    "axis[4].set_xlabel('Frequency')\n",
    "axis[4].set_ylabel('Amplitude')\n",
    "\n",
    "plotter.show()"
   ]
  },
  {
   "cell_type": "code",
   "execution_count": null,
   "metadata": {},
   "outputs": [],
   "source": [
    "plt.figure(figsize=(20,5))\n",
    "plt.plot(frequencies, abs(fourierTransform))\n",
    "plt.xlabel('Frequency (Hz)')\n",
    "plt.ylabel('Amplitude')\n"
   ]
  },
  {
   "cell_type": "code",
   "execution_count": null,
   "metadata": {},
   "outputs": [],
   "source": [
    "plt.figure(figsize=(20,5))\n",
    "plt.plot(time, signal)\n",
    "plt.xlabel('Frequency (Hz)')\n",
    "plt.ylabel('Amplitude')\n"
   ]
  },
  {
   "cell_type": "code",
   "execution_count": null,
   "metadata": {},
   "outputs": [],
   "source": [
    "# Read WAV File\n",
    "#wav_file= 'audiofile/1-E1-Major 07.wav'\n",
    "wav_file = 'audiofile/G53-40100-1111-235.wav'\n",
    "rate, data = wav.read(wav_file)\n"
   ]
  },
  {
   "cell_type": "code",
   "execution_count": null,
   "metadata": {},
   "outputs": [],
   "source": [
    "plt.figure(figsize=(20,5))\n",
    "plt.plot(data)\n",
    "plt.show()"
   ]
  },
  {
   "cell_type": "code",
   "execution_count": null,
   "metadata": {},
   "outputs": [],
   "source": [
    "from IPython.display import Audio\n",
    "Audio(wav_file)"
   ]
  }
 ],
 "metadata": {
  "kernelspec": {
   "display_name": "Python 3",
   "language": "python",
   "name": "python3"
  },
  "language_info": {
   "codemirror_mode": {
    "name": "ipython",
    "version": 3
   },
   "file_extension": ".py",
   "mimetype": "text/x-python",
   "name": "python",
   "nbconvert_exporter": "python",
   "pygments_lexer": "ipython3",
   "version": "3.7.3"
  }
 },
 "nbformat": 4,
 "nbformat_minor": 2
}
