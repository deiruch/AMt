{
 "cells": [
  {
   "cell_type": "markdown",
   "metadata": {},
   "source": [
    "# Imports"
   ]
  },
  {
   "cell_type": "code",
   "execution_count": 1,
   "metadata": {},
   "outputs": [],
   "source": [
    "from sklearn.metrics import classification_report\n",
    "import panel as pn "
   ]
  },
  {
   "cell_type": "markdown",
   "metadata": {},
   "source": [
    "## Functions"
   ]
  },
  {
   "cell_type": "code",
   "execution_count": 2,
   "metadata": {},
   "outputs": [],
   "source": [
    "from my_function import *\n",
    "from plot_function import *"
   ]
  },
  {
   "cell_type": "markdown",
   "metadata": {},
   "source": [
    "# Init Dataframe"
   ]
  },
  {
   "cell_type": "code",
   "execution_count": 3,
   "metadata": {},
   "outputs": [],
   "source": [
    "# Set audio snippets and sample compression\n",
    "offset_sec = 0.01\n",
    "duration_sec = 0.05\n",
    "sampl_fac = 1\n",
    "\n",
    "# Create empty Dataframe\n",
    "df_cols = ['dataset', 'audio_file_name', 'pitch', 'onset_sec', 'amplitude', 'frequency']\n",
    "df_ref = pd.DataFrame(columns=df_cols)\n",
    "df_test = pd.DataFrame(columns=df_cols)"
   ]
  },
  {
   "cell_type": "markdown",
   "metadata": {},
   "source": [
    "# Create Dataframe with reference tones"
   ]
  },
  {
   "cell_type": "code",
   "execution_count": 4,
   "metadata": {
    "scrolled": false
   },
   "outputs": [
    {
     "name": "stdout",
     "output_type": "stream",
     "text": [
      "CPU times: user 411 ms, sys: 79.3 ms, total: 490 ms\n",
      "Wall time: 746 ms\n"
     ]
    }
   ],
   "source": [
    "%%time\n",
    "# paths\n",
    "path_main = \"IDMT-SMT-GUITAR_V2/\"\n",
    "path_main_ref = path_main + \"dataset1/Fender Strat Clean Neck SC/\"\n",
    "#path_main_ref = path_main + \"dataset1/Fender Strat Clean Neck SC Chords/\"\n",
    "\n",
    "df_ref = read_xml_to_df(path_main_ref, df_cols, offset_sec, duration_sec, sampl_fac)\n",
    "#df_ref.head(10)\n"
   ]
  },
  {
   "cell_type": "markdown",
   "metadata": {},
   "source": [
    "# Create Dataframe with testdatas"
   ]
  },
  {
   "cell_type": "code",
   "execution_count": 5,
   "metadata": {
    "scrolled": false
   },
   "outputs": [
    {
     "name": "stdout",
     "output_type": "stream",
     "text": [
      "CPU times: user 9.53 s, sys: 1.41 s, total: 10.9 s\n",
      "Wall time: 14.8 s\n"
     ]
    },
    {
     "data": {
      "text/html": [
       "<div>\n",
       "<style scoped>\n",
       "    .dataframe tbody tr th:only-of-type {\n",
       "        vertical-align: middle;\n",
       "    }\n",
       "\n",
       "    .dataframe tbody tr th {\n",
       "        vertical-align: top;\n",
       "    }\n",
       "\n",
       "    .dataframe thead th {\n",
       "        text-align: right;\n",
       "    }\n",
       "</style>\n",
       "<table border=\"1\" class=\"dataframe\">\n",
       "  <thead>\n",
       "    <tr style=\"text-align: right;\">\n",
       "      <th></th>\n",
       "      <th>dataset</th>\n",
       "      <th>audio_file_name</th>\n",
       "      <th>pitch</th>\n",
       "      <th>onset_sec</th>\n",
       "      <th>amplitude</th>\n",
       "      <th>frequency</th>\n",
       "    </tr>\n",
       "  </thead>\n",
       "  <tbody>\n",
       "    <tr>\n",
       "      <th>0</th>\n",
       "      <td>dataset1/Fender Strat Clean Neck SC</td>\n",
       "      <td>G53-40100-1111-00001.wav</td>\n",
       "      <td>[40]</td>\n",
       "      <td>0.2000</td>\n",
       "      <td>[0.01021836468962585, 0.007419197032659204, 0....</td>\n",
       "      <td>[0.0, 20.02724795640327, 40.05449591280654, 60...</td>\n",
       "    </tr>\n",
       "    <tr>\n",
       "      <th>1</th>\n",
       "      <td>dataset1/Fender Strat Clean Neck SC</td>\n",
       "      <td>G53-41101-1111-00002.wav</td>\n",
       "      <td>[41]</td>\n",
       "      <td>0.2000</td>\n",
       "      <td>[0.0005969542765022676, 0.0017092017487395916,...</td>\n",
       "      <td>[0.0, 20.02724795640327, 40.05449591280654, 60...</td>\n",
       "    </tr>\n",
       "    <tr>\n",
       "      <th>2</th>\n",
       "      <td>dataset1/Fender Strat Clean Neck SC</td>\n",
       "      <td>G53-42102-1111-00003.wav</td>\n",
       "      <td>[42]</td>\n",
       "      <td>0.2000</td>\n",
       "      <td>[0.0034228128100198415, 0.00428068727065624, 0...</td>\n",
       "      <td>[0.0, 20.02724795640327, 40.05449591280654, 60...</td>\n",
       "    </tr>\n",
       "    <tr>\n",
       "      <th>3</th>\n",
       "      <td>dataset1/Fender Strat Clean Neck SC</td>\n",
       "      <td>G53-43103-1111-00004.wav</td>\n",
       "      <td>[43]</td>\n",
       "      <td>0.2000</td>\n",
       "      <td>[0.0007040495234552155, 0.001659174406915279, ...</td>\n",
       "      <td>[0.0, 20.02724795640327, 40.05449591280654, 60...</td>\n",
       "    </tr>\n",
       "    <tr>\n",
       "      <th>4</th>\n",
       "      <td>dataset1/Fender Strat Clean Neck SC</td>\n",
       "      <td>G53-44104-1111-00005.wav</td>\n",
       "      <td>[44]</td>\n",
       "      <td>0.2000</td>\n",
       "      <td>[0.0048971509176587305, 0.006496422462073519, ...</td>\n",
       "      <td>[0.0, 20.02724795640327, 40.05449591280654, 60...</td>\n",
       "    </tr>\n",
       "    <tr>\n",
       "      <th>...</th>\n",
       "      <td>...</td>\n",
       "      <td>...</td>\n",
       "      <td>...</td>\n",
       "      <td>...</td>\n",
       "      <td>...</td>\n",
       "      <td>...</td>\n",
       "    </tr>\n",
       "    <tr>\n",
       "      <th>4448</th>\n",
       "      <td>dataset2</td>\n",
       "      <td>LP_V_vibrato_slow-fast.wav</td>\n",
       "      <td>[60]</td>\n",
       "      <td>43.0498</td>\n",
       "      <td>[0.002487341671033241, 0.004921049887680139, 0...</td>\n",
       "      <td>[0.0, 20.02724795640327, 40.05449591280654, 60...</td>\n",
       "    </tr>\n",
       "    <tr>\n",
       "      <th>4449</th>\n",
       "      <td>dataset2</td>\n",
       "      <td>LP_V_vibrato_slow-fast.wav</td>\n",
       "      <td>[64]</td>\n",
       "      <td>49.6065</td>\n",
       "      <td>[0.0050438371645350035, 0.0022661671921127076,...</td>\n",
       "      <td>[0.0, 20.02724795640327, 40.05449591280654, 60...</td>\n",
       "    </tr>\n",
       "    <tr>\n",
       "      <th>4450</th>\n",
       "      <td>dataset2</td>\n",
       "      <td>LP_V_vibrato_slow-fast.wav</td>\n",
       "      <td>[64]</td>\n",
       "      <td>55.5450</td>\n",
       "      <td>[0.0024214063371930804, 0.002211863439550683, ...</td>\n",
       "      <td>[0.0, 20.02724795640327, 40.05449591280654, 60...</td>\n",
       "    </tr>\n",
       "    <tr>\n",
       "      <th>4451</th>\n",
       "      <td>dataset2</td>\n",
       "      <td>LP_V_vibrato_slow-fast.wav</td>\n",
       "      <td>[69]</td>\n",
       "      <td>62.3891</td>\n",
       "      <td>[0.0031924125558935325, 0.002750274986731963, ...</td>\n",
       "      <td>[0.0, 20.02724795640327, 40.05449591280654, 60...</td>\n",
       "    </tr>\n",
       "    <tr>\n",
       "      <th>4452</th>\n",
       "      <td>dataset2</td>\n",
       "      <td>LP_V_vibrato_slow-fast.wav</td>\n",
       "      <td>[69]</td>\n",
       "      <td>67.4743</td>\n",
       "      <td>[0.0016533059057464946, 0.004889505665010828, ...</td>\n",
       "      <td>[0.0, 20.02724795640327, 40.05449591280654, 60...</td>\n",
       "    </tr>\n",
       "  </tbody>\n",
       "</table>\n",
       "<p>4453 rows × 6 columns</p>\n",
       "</div>"
      ],
      "text/plain": [
       "                                  dataset             audio_file_name pitch  \\\n",
       "0     dataset1/Fender Strat Clean Neck SC    G53-40100-1111-00001.wav  [40]   \n",
       "1     dataset1/Fender Strat Clean Neck SC    G53-41101-1111-00002.wav  [41]   \n",
       "2     dataset1/Fender Strat Clean Neck SC    G53-42102-1111-00003.wav  [42]   \n",
       "3     dataset1/Fender Strat Clean Neck SC    G53-43103-1111-00004.wav  [43]   \n",
       "4     dataset1/Fender Strat Clean Neck SC    G53-44104-1111-00005.wav  [44]   \n",
       "...                                   ...                         ...   ...   \n",
       "4448                             dataset2  LP_V_vibrato_slow-fast.wav  [60]   \n",
       "4449                             dataset2  LP_V_vibrato_slow-fast.wav  [64]   \n",
       "4450                             dataset2  LP_V_vibrato_slow-fast.wav  [64]   \n",
       "4451                             dataset2  LP_V_vibrato_slow-fast.wav  [69]   \n",
       "4452                             dataset2  LP_V_vibrato_slow-fast.wav  [69]   \n",
       "\n",
       "      onset_sec                                          amplitude  \\\n",
       "0        0.2000  [0.01021836468962585, 0.007419197032659204, 0....   \n",
       "1        0.2000  [0.0005969542765022676, 0.0017092017487395916,...   \n",
       "2        0.2000  [0.0034228128100198415, 0.00428068727065624, 0...   \n",
       "3        0.2000  [0.0007040495234552155, 0.001659174406915279, ...   \n",
       "4        0.2000  [0.0048971509176587305, 0.006496422462073519, ...   \n",
       "...         ...                                                ...   \n",
       "4448    43.0498  [0.002487341671033241, 0.004921049887680139, 0...   \n",
       "4449    49.6065  [0.0050438371645350035, 0.0022661671921127076,...   \n",
       "4450    55.5450  [0.0024214063371930804, 0.002211863439550683, ...   \n",
       "4451    62.3891  [0.0031924125558935325, 0.002750274986731963, ...   \n",
       "4452    67.4743  [0.0016533059057464946, 0.004889505665010828, ...   \n",
       "\n",
       "                                              frequency  \n",
       "0     [0.0, 20.02724795640327, 40.05449591280654, 60...  \n",
       "1     [0.0, 20.02724795640327, 40.05449591280654, 60...  \n",
       "2     [0.0, 20.02724795640327, 40.05449591280654, 60...  \n",
       "3     [0.0, 20.02724795640327, 40.05449591280654, 60...  \n",
       "4     [0.0, 20.02724795640327, 40.05449591280654, 60...  \n",
       "...                                                 ...  \n",
       "4448  [0.0, 20.02724795640327, 40.05449591280654, 60...  \n",
       "4449  [0.0, 20.02724795640327, 40.05449591280654, 60...  \n",
       "4450  [0.0, 20.02724795640327, 40.05449591280654, 60...  \n",
       "4451  [0.0, 20.02724795640327, 40.05449591280654, 60...  \n",
       "4452  [0.0, 20.02724795640327, 40.05449591280654, 60...  \n",
       "\n",
       "[4453 rows x 6 columns]"
      ]
     },
     "execution_count": 5,
     "metadata": {},
     "output_type": "execute_result"
    }
   ],
   "source": [
    "%%time\n",
    "# paths testdata\n",
    "\n",
    "path_testdata = [\n",
    "    path_main + 'dataset1/Fender Strat Clean Neck SC/',\n",
    "    path_main + 'dataset1/Fender Strat Clean Neck SC Chords/',\n",
    "    path_main + 'dataset1/Ibanez Power Strat Clean Bridge HU/',\n",
    "    path_main + 'dataset1/Ibanez Power Strat Clean Bridge HU Chords/',\n",
    "    path_main + 'dataset1/Ibanez Power Strat Clean Bridge+Neck SC/',\n",
    "    path_main + 'dataset1/Ibanez Power Strat Clean Neck HU/',\n",
    "    path_main + 'dataset2/']\n",
    "\n",
    "for path in path_testdata:\n",
    "    df_act = read_xml_to_df(path, df_cols, offset_sec, duration_sec, sampl_fac)\n",
    "    df_test = df_test.append(df_act, ignore_index=True)\n",
    "df_test"
   ]
  },
  {
   "cell_type": "code",
   "execution_count": 6,
   "metadata": {},
   "outputs": [
    {
     "data": {
      "image/png": "[encoded data removed]",
      "text/plain": [
       "<Figure size 1440x360 with 1 Axes>"
      ]
     },
     "metadata": {
      "needs_background": "light"
     },
     "output_type": "display_data"
    },
    {
     "data": {
      "text/plain": [
       "50"
      ]
     },
     "execution_count": 6,
     "metadata": {},
     "output_type": "execute_result"
    }
   ],
   "source": [
    "pitch = 36\n",
    "plot_freq_domain(df_test.frequency[pitch], df_test.amplitude[pitch], df_test.pitch[pitch])\n",
    "len(df_test.amplitude[pitch])"
   ]
  },
  {
   "cell_type": "code",
   "execution_count": 7,
   "metadata": {},
   "outputs": [
    {
     "data": {
      "text/html": [
       "<div>\n",
       "<style scoped>\n",
       "    .dataframe tbody tr th:only-of-type {\n",
       "        vertical-align: middle;\n",
       "    }\n",
       "\n",
       "    .dataframe tbody tr th {\n",
       "        vertical-align: top;\n",
       "    }\n",
       "\n",
       "    .dataframe thead th {\n",
       "        text-align: right;\n",
       "    }\n",
       "</style>\n",
       "<table border=\"1\" class=\"dataframe\">\n",
       "  <thead>\n",
       "    <tr style=\"text-align: right;\">\n",
       "      <th></th>\n",
       "      <th>dataset</th>\n",
       "      <th>audio_file_name</th>\n",
       "      <th>pitch</th>\n",
       "      <th>onset_sec</th>\n",
       "      <th>amplitude</th>\n",
       "      <th>frequency</th>\n",
       "    </tr>\n",
       "  </thead>\n",
       "  <tbody>\n",
       "    <tr>\n",
       "      <th>0</th>\n",
       "      <td>dataset1/Fender Strat Clean Neck SC</td>\n",
       "      <td>G53-40100-1111-00001.wav</td>\n",
       "      <td>[40]</td>\n",
       "      <td>0.2</td>\n",
       "      <td>[0.01021836468962585, 0.007419197032659204, 0....</td>\n",
       "      <td>[0.0, 20.02724795640327, 40.05449591280654, 60...</td>\n",
       "    </tr>\n",
       "    <tr>\n",
       "      <th>1</th>\n",
       "      <td>dataset1/Fender Strat Clean Neck SC</td>\n",
       "      <td>G53-41101-1111-00002.wav</td>\n",
       "      <td>[41]</td>\n",
       "      <td>0.2</td>\n",
       "      <td>[0.0005969542765022676, 0.0017092017487395916,...</td>\n",
       "      <td>[0.0, 20.02724795640327, 40.05449591280654, 60...</td>\n",
       "    </tr>\n",
       "    <tr>\n",
       "      <th>2</th>\n",
       "      <td>dataset1/Fender Strat Clean Neck SC</td>\n",
       "      <td>G53-42102-1111-00003.wav</td>\n",
       "      <td>[42]</td>\n",
       "      <td>0.2</td>\n",
       "      <td>[0.0034228128100198415, 0.00428068727065624, 0...</td>\n",
       "      <td>[0.0, 20.02724795640327, 40.05449591280654, 60...</td>\n",
       "    </tr>\n",
       "    <tr>\n",
       "      <th>3</th>\n",
       "      <td>dataset1/Fender Strat Clean Neck SC</td>\n",
       "      <td>G53-43103-1111-00004.wav</td>\n",
       "      <td>[43]</td>\n",
       "      <td>0.2</td>\n",
       "      <td>[0.0007040495234552155, 0.001659174406915279, ...</td>\n",
       "      <td>[0.0, 20.02724795640327, 40.05449591280654, 60...</td>\n",
       "    </tr>\n",
       "    <tr>\n",
       "      <th>4</th>\n",
       "      <td>dataset1/Fender Strat Clean Neck SC</td>\n",
       "      <td>G53-44104-1111-00005.wav</td>\n",
       "      <td>[44]</td>\n",
       "      <td>0.2</td>\n",
       "      <td>[0.0048971509176587305, 0.006496422462073519, ...</td>\n",
       "      <td>[0.0, 20.02724795640327, 40.05449591280654, 60...</td>\n",
       "    </tr>\n",
       "  </tbody>\n",
       "</table>\n",
       "</div>"
      ],
      "text/plain": [
       "                               dataset           audio_file_name pitch  \\\n",
       "0  dataset1/Fender Strat Clean Neck SC  G53-40100-1111-00001.wav  [40]   \n",
       "1  dataset1/Fender Strat Clean Neck SC  G53-41101-1111-00002.wav  [41]   \n",
       "2  dataset1/Fender Strat Clean Neck SC  G53-42102-1111-00003.wav  [42]   \n",
       "3  dataset1/Fender Strat Clean Neck SC  G53-43103-1111-00004.wav  [43]   \n",
       "4  dataset1/Fender Strat Clean Neck SC  G53-44104-1111-00005.wav  [44]   \n",
       "\n",
       "   onset_sec                                          amplitude  \\\n",
       "0        0.2  [0.01021836468962585, 0.007419197032659204, 0....   \n",
       "1        0.2  [0.0005969542765022676, 0.0017092017487395916,...   \n",
       "2        0.2  [0.0034228128100198415, 0.00428068727065624, 0...   \n",
       "3        0.2  [0.0007040495234552155, 0.001659174406915279, ...   \n",
       "4        0.2  [0.0048971509176587305, 0.006496422462073519, ...   \n",
       "\n",
       "                                           frequency  \n",
       "0  [0.0, 20.02724795640327, 40.05449591280654, 60...  \n",
       "1  [0.0, 20.02724795640327, 40.05449591280654, 60...  \n",
       "2  [0.0, 20.02724795640327, 40.05449591280654, 60...  \n",
       "3  [0.0, 20.02724795640327, 40.05449591280654, 60...  \n",
       "4  [0.0, 20.02724795640327, 40.05449591280654, 60...  "
      ]
     },
     "execution_count": 7,
     "metadata": {},
     "output_type": "execute_result"
    }
   ],
   "source": [
    "# drop duplicate in df_ref\n",
    "df_ref_unique = pd.DataFrame(columns=df_cols)\n",
    " \n",
    "for index, row in df_ref.iterrows():\n",
    "    if not df_ref_unique.pitch.str.contains(row.pitch[0], regex=False).any():\n",
    "        df_ref_unique = df_ref_unique.append(row, ignore_index=True)\n",
    "df_ref_unique.head()"
   ]
  },
  {
   "cell_type": "markdown",
   "metadata": {},
   "source": [
    "## Histogram of Pitches Distribution"
   ]
  },
  {
   "cell_type": "code",
   "execution_count": 8,
   "metadata": {},
   "outputs": [
    {
     "data": {
      "image/png": "[encoded data removed]",
      "text/plain": [
       "<Figure size 720x288 with 1 Axes>"
      ]
     },
     "execution_count": 8,
     "metadata": {},
     "output_type": "execute_result"
    }
   ],
   "source": [
    "all_pitches_temp = df_test.pitch.tolist()\n",
    " \n",
    "# flatten List\n",
    "all_pitches = []\n",
    "for sublist in all_pitches_temp:\n",
    "    for item in sublist:\n",
    "        all_pitches.append(item)\n",
    "\n",
    "plot_hist(all_pitches, min(df_ref_unique.pitch), max(df_ref_unique.pitch),10, 4)"
   ]
  },
  {
   "cell_type": "markdown",
   "metadata": {},
   "source": [
    "# Gurobi"
   ]
  },
  {
   "cell_type": "code",
   "execution_count": 9,
   "metadata": {},
   "outputs": [
    {
     "name": "stdout",
     "output_type": "stream",
     "text": [
      "Academic license - for non-commercial use only\n"
     ]
    }
   ],
   "source": [
    "# Build Model\n",
    "m = Model('AMt')\n",
    "\n",
    "lambs = []\n",
    "for lamb in range(len(df_ref_unique)):\n",
    "    lambs.append(m.addVar(lb = 0, vtype = GRB.CONTINUOUS, name = 'lamb_' + str(lamb)))\n",
    "    #lambs.append(m.addVar(lb = 0, vtype = GRB.BINARY, name = 'lamb_' + str(lamb)))\n",
    "\n",
    "m.update()"
   ]
  },
  {
   "cell_type": "code",
   "execution_count": null,
   "metadata": {},
   "outputs": [],
   "source": [
    "%%time\n",
    "pred_vec = []\n",
    "\n",
    "len_lambs = len(lambs)\n",
    "gamma = 2\n",
    "\n",
    "amplitudes = df_test.amplitude.tolist()\n",
    "\n",
    "for amplitude in amplitudes:\n",
    "\n",
    "    mischsignal = amplitude\n",
    "    len_mischsignal = len(mischsignal)\n",
    "\n",
    "    cost_function = 0\n",
    "    approxi_sgn = 0  \n",
    "    penalty = 0\n",
    "    #print(type(cost_function))\n",
    "    #cost_function = m.addVar(lb = 0, vtype = GRB.CONTINUOUS, name = 'CostFunction')\n",
    "    #approxi_sgn = m.addVar(lb = 0, vtype = GRB.CONTINUOUS, name = 'approxi_sgn')\n",
    "\n",
    "    for lamb in range(len_lambs):\n",
    "        la = lambs[lamb]\n",
    "        note = df_ref_unique.amplitude[lamb]\n",
    "        penalty += la * la\n",
    "        \n",
    "\n",
    "        for sgn in range(len_mischsignal):\n",
    "            approxi_sgn = la * note[sgn]\n",
    "            mi = mischsignal[sgn]\n",
    "            \n",
    "            deviation = mi - approxi_sgn\n",
    "            \n",
    "            cost_function += deviation * deviation\n",
    "    \n",
    "    #Constraints\n",
    "    m.addConstrs((lambs[i] <= 1 for i in range(6)), name='c')\n",
    "\n",
    "    #Params\n",
    "    m.params.outputflag = 0 # Infotext ausblenden\n",
    "    #m.params.presolve = 0\n",
    "    \n",
    "    m.setObjective(cost_function + gamma * penalty, GRB.MINIMIZE)\n",
    "    m.optimize()\n",
    "\n",
    "\n",
    "    approx_v = []\n",
    "\n",
    "    for v in m.getVars():\n",
    "        #print('%s: %g' % (v.varName, v.x))\n",
    "        approx_v.append(v.x)\n",
    "\n",
    "    pred_vec.append(approx_v)\n",
    "\n",
    "# add pred_vec to df_test\n",
    "df_test['pred_vec'] = pred_vec"
   ]
  },
  {
   "cell_type": "markdown",
   "metadata": {},
   "source": [
    "# Calculate Pitch Score"
   ]
  },
  {
   "cell_type": "code",
   "execution_count": null,
   "metadata": {},
   "outputs": [],
   "source": [
    "# Calc all target vectors\n",
    "target_pitches = df_test.pitch.array\n",
    "target_vec = []\n",
    "\n",
    "for pitch in target_pitches:\n",
    "    target_vec.append(calc_target_vec(pitch))\n",
    "\n",
    "df_test['target_vec'] = target_vec\n",
    "df_test.head()"
   ]
  },
  {
   "cell_type": "code",
   "execution_count": null,
   "metadata": {},
   "outputs": [],
   "source": [
    "pitch_score = []\n",
    "\n",
    "for vec in range(len(pred_vec)):\n",
    "    pitch_score.append(metric(target_vec[vec], pred_vec[vec]))\n",
    "    \n",
    "df_test['pitch_score'] = pitch_score\n",
    "df_test.head()"
   ]
  },
  {
   "cell_type": "markdown",
   "metadata": {},
   "source": [
    "# Calculate F1 Score"
   ]
  },
  {
   "cell_type": "code",
   "execution_count": null,
   "metadata": {},
   "outputs": [],
   "source": [
    "# normalize pred_vec\n",
    "%time\n",
    "norm_pred_vec = []\n",
    "\n",
    "for j in range(len(df_test.pred_vec)):\n",
    "    thresh_vec = []\n",
    "    vec = norm_vec(df_test.pred_vec[j])\n",
    "            \n",
    "    norm_pred_vec.append(vec)\n",
    "\n",
    "df_test['norm_pred_vec'] = norm_pred_vec\n",
    "\n",
    "df_test.head()"
   ]
  },
  {
   "cell_type": "code",
   "execution_count": null,
   "metadata": {},
   "outputs": [],
   "source": [
    "# get all max values from norm_pred_vec\n",
    "max_val = []\n",
    "for i in df_test.norm_pred_vec:\n",
    "    max_val.append(np.amax(i))"
   ]
  },
  {
   "cell_type": "code",
   "execution_count": null,
   "metadata": {},
   "outputs": [],
   "source": [
    "# thresholding vec_pred\n",
    "%time\n",
    "thresholded_vec = []\n",
    "pitch_pred = []\n",
    "threshold = max_val\n",
    "\n",
    "for j in range(len(df_test.norm_pred_vec)):\n",
    "    thresh_vec = []\n",
    "    vec = df_test.norm_pred_vec[j]\n",
    "    \n",
    "    for i in range(len(vec)):\n",
    "        if vec[i] >= threshold[j]:\n",
    "            thresh_vec.append(1)\n",
    "        else:\n",
    "            thresh_vec.append(0)\n",
    "            \n",
    "    thresholded_vec.append(thresh_vec)\n",
    "    pitch_pred.append(vec_to_pitch(thresh_vec))\n",
    "    \n",
    "df_test['thresholded_vec'] = thresholded_vec\n",
    "df_test['pitch_pred'] = pitch_pred\n",
    "\n",
    "df_test.head()"
   ]
  },
  {
   "cell_type": "code",
   "execution_count": null,
   "metadata": {},
   "outputs": [],
   "source": [
    "#plot_bar(0, 10, 4)\n",
    "plot_bar(df_test, 88, 10, 4, max_val[88])"
   ]
  },
  {
   "cell_type": "code",
   "execution_count": null,
   "metadata": {},
   "outputs": [],
   "source": [
    "combi_target_vec = []\n",
    "for i in df_test.target_vec:\n",
    "    for elem in i:\n",
    "        combi_target_vec.append(elem)\n",
    "\n",
    "combi_pred_vec = []\n",
    "for i in df_test.thresholded_vec:\n",
    "    for elem in i:\n",
    "        combi_pred_vec.append(elem)"
   ]
  },
  {
   "cell_type": "markdown",
   "metadata": {},
   "source": [
    "# Save/Load Dataframe"
   ]
  },
  {
   "cell_type": "code",
   "execution_count": null,
   "metadata": {},
   "outputs": [],
   "source": [
    "df_test.to_pickle('file_name')"
   ]
  },
  {
   "cell_type": "code",
   "execution_count": null,
   "metadata": {},
   "outputs": [],
   "source": [
    "#df_test = pd.read_pickle('file_name')"
   ]
  },
  {
   "cell_type": "markdown",
   "metadata": {},
   "source": [
    "# Scores"
   ]
  },
  {
   "cell_type": "code",
   "execution_count": null,
   "metadata": {},
   "outputs": [],
   "source": [
    "# save length of pitches in a column\n",
    "df_test['mono_poly'] = df_test.pitch.apply(lambda x: len(x))\n",
    "\n",
    "# calculate the mean of the pitch score\n",
    "pitch_score_mono = df_test.loc[df_test.mono_poly == 1].pitch_score.mean()\n",
    "pitch_score_poly = df_test.loc[df_test.mono_poly > 1].pitch_score.mean()\n",
    "\n",
    "# count monophonic and polyphonic files\n",
    "mono_count = len(df_test.loc[df_test.mono_poly==1])\n",
    "poly_count = len(df_test.loc[df_test.mono_poly>1])\n",
    "total_count = mono_count + poly_count\n",
    "anteil_mono = mono_count/total_count\n",
    "anteil_poly = poly_count/total_count\n",
    "total_pitch_score = pitch_score_mono*anteil_mono  + pitch_score_poly*anteil_poly\n",
    "\n",
    "print('Possible number of Pichtes', df_test.mono_poly.unique())\n",
    "\n",
    "print('Anzahl Monos: ', mono_count)\n",
    "print('Anzahl Polys: ', poly_count)\n",
    "print('Anzahl Files: ', total_count)\n",
    "\n",
    "print('Pitch Score Mono: ', round(pitch_score_mono, 2))\n",
    "print('Pitch Score Poly: ', round(pitch_score_poly, 2))\n",
    "\n",
    "print('Total Pitch Score: ', round(total_pitch_score, 3))\n"
   ]
  },
  {
   "cell_type": "code",
   "execution_count": null,
   "metadata": {},
   "outputs": [],
   "source": [
    "df_test.loc[df_test.mono_poly == 1].pitch_score.mean()"
   ]
  },
  {
   "cell_type": "code",
   "execution_count": null,
   "metadata": {},
   "outputs": [],
   "source": [
    "print(classification_report(combi_target_vec, combi_pred_vec))"
   ]
  },
  {
   "cell_type": "markdown",
   "metadata": {},
   "source": [
    "# Boxplots"
   ]
  },
  {
   "cell_type": "code",
   "execution_count": null,
   "metadata": {},
   "outputs": [],
   "source": [
    "mono_score = df_test.loc[df_test.mono_poly == 1].pitch_score\n",
    "poly_score = df_test.loc[df_test.mono_poly > 1].pitch_score"
   ]
  },
  {
   "cell_type": "code",
   "execution_count": null,
   "metadata": {},
   "outputs": [],
   "source": [
    "plot_box(mono_score, poly_score, 4, 4)"
   ]
  },
  {
   "cell_type": "markdown",
   "metadata": {},
   "source": [
    "# Scatterplot"
   ]
  },
  {
   "cell_type": "code",
   "execution_count": null,
   "metadata": {},
   "outputs": [],
   "source": [
    "# New 24.12.2019\n",
    "df_mono = df_test.loc[df_test.mono_poly == 1]\n",
    "mono_pitches = df_mono.pitch\n",
    "mono_pitches"
   ]
  },
  {
   "cell_type": "code",
   "execution_count": null,
   "metadata": {},
   "outputs": [],
   "source": [
    "print('Pitch should be:', df_mono.pitch[1])\n",
    "vec = df_mono.thresholded_vec[1]\n",
    "print('Vec_pred:')\n",
    "print(vec)\n",
    "print('Pitch pred:', vec_to_pitch(vec))"
   ]
  },
  {
   "cell_type": "code",
   "execution_count": null,
   "metadata": {},
   "outputs": [],
   "source": [
    "mono_pitches = []\n",
    "mono_pitches_pred = []\n",
    "df_mono = df_test.loc[df_test.mono_poly == 1]\n",
    " \n",
    "for index, row in df_mono.iterrows():\n",
    "    len_pitch_pred = len(row.pitch_pred) \n",
    "    #print('Pitch: {}, Länge: {}'.format(row.pitch, len_pitch_pred))\n",
    "   \n",
    "    for item in row.pitch:\n",
    "        for i in range(len_pitch_pred):\n",
    "            mono_pitches.append(item)\n",
    "            i += 1\n",
    "    for item in row.pitch_pred:\n",
    "        mono_pitches_pred.append(item)"
   ]
  },
  {
   "cell_type": "code",
   "execution_count": null,
   "metadata": {},
   "outputs": [],
   "source": [
    "# test values\n",
    "pitch_pred = [0, 41, 43, 51, 67, 44, 67]\n",
    "pitch = [40, 41, 43, 51, 67, 44, 62 ]\n",
    "\n",
    "plot_scatter(mono_pitches_pred, mono_pitches, 4, 4)"
   ]
  },
  {
   "cell_type": "code",
   "execution_count": null,
   "metadata": {},
   "outputs": [],
   "source": [
    "# NEW 28.12.2019\n",
    "# Create Text with used Dataset\n",
    "used_datasets = df_test.dataset.unique()\n",
    "dataset_text = ('<h4> Verwendete Datensätze:</h4>'\n",
    "                '<p style=\"font-size:10px\">')\n",
    "   \n",
    "for i, text in enumerate(used_datasets):\n",
    "    dataset_text += text\n",
    "    if i < len(used_datasets)-1:\n",
    "        dataset_text += '<br>'\n",
    "    else:\n",
    "        dataset_text += '</p>'"
   ]
  },
  {
   "cell_type": "code",
   "execution_count": null,
   "metadata": {},
   "outputs": [],
   "source": [
    "# New 28.12.2019\n",
    "report = classification_report(combi_target_vec, combi_pred_vec, output_dict=True)\n",
    "zero = '0'\n",
    "one = '1'\n",
    "macro = 'macro avg'\n",
    "weight = 'weighted avg'\n",
    " \n",
    "f1_table = (\n",
    "'<table style=\"font-size: 10px\">'\n",
    "  '<tr>'\n",
    "    '<th></th>'\n",
    "    '<th>Precision</th>'\n",
    "    '<th>Recall</th>'\n",
    "    '<th>F1-Score</th>'\n",
    "  '</tr>'\n",
    "  '<tr>'\n",
    "    '<td>' + zero +'</td>'\n",
    "    '<td>' + str(round(report[zero]['precision'], 2)) + '</td>'\n",
    "    '<td>' + str(round(report[zero]['recall'], 2)) + '</td>'\n",
    "    '<td>' + str(round(report[zero]['f1-score'], 2)) + '</td>'\n",
    "  '</tr>'\n",
    "  '<tr>'\n",
    "    '<td>' + one +'</td>'\n",
    "    '<td>' + str(round(report[one]['precision'], 2)) + '</td>'\n",
    "    '<td>' + str(round(report[one]['recall'], 2)) + '</td>'\n",
    "    '<td>' + str(round(report[one]['f1-score'], 2)) + '</td>'\n",
    "  '</tr>'\n",
    "  '<tr>'\n",
    "    '<td>accuracy</td>'\n",
    "    '<td>''</td>'\n",
    "    '<td>''</td>'\n",
    "    '<td>' + str(round(report['accuracy'], 2)) + '</td>'\n",
    "  '</tr>'\n",
    "  '<tr>'\n",
    "    '<td>' + macro +'</td>'\n",
    "    '<td>' + str(round(report[macro]['precision'], 2)) + '</td>'\n",
    "    '<td>' + str(round(report[macro]['recall'], 2)) + '</td>'\n",
    "    '<td>' + str(round(report[macro]['f1-score'], 2)) + '</td>'\n",
    "  '</tr>'\n",
    "  '<tr>'\n",
    "    '<td>' + weight +'</td>'\n",
    "    '<td>' + str(round(report[weight]['precision'], 2)) + '</td>'\n",
    "    '<td>' + str(round(report[weight]['recall'], 2)) + '</td>'\n",
    "    '<td>' + str(round(report[weight]['f1-score'], 2)) + '</td>'\n",
    "  '</tr>'\n",
    "'</table> '\n",
    ")"
   ]
  },
  {
   "cell_type": "code",
   "execution_count": null,
   "metadata": {},
   "outputs": [],
   "source": [
    "info_dataset = (\n",
    "'<table style=\"font-size: 10px\">'\n",
    "  '<tr>'\n",
    "    '<th>Datensatz Infos</th>'\n",
    "    '<th></th>'\n",
    "  '</tr>'\n",
    "  '<tr>'\n",
    "    '<td>Anzahl Monos</td>'\n",
    "    '<td>' + str(mono_count) + '</td>'\n",
    "  '</tr>'\n",
    "  '<tr>'\n",
    "    '<td>Anzahl Polys</td>'\n",
    "    '<td>' + str(poly_count) + '</td>'\n",
    "  '</tr>'\n",
    "'</table> '\n",
    ")"
   ]
  },
  {
   "cell_type": "code",
   "execution_count": null,
   "metadata": {},
   "outputs": [],
   "source": [
    "title = '<div style=\"font-size:35px\">Dashboard</div>'\n",
    "pn.extension()"
   ]
  },
  {
   "cell_type": "code",
   "execution_count": null,
   "metadata": {},
   "outputs": [],
   "source": [
    "dashboard = pn.Column(pn.Row(title),\n",
    "                      pn.Row(plot_hist(all_pitches, min(df_ref_unique.pitch), max(df_ref_unique.pitch),10, 4),\n",
    "                             dataset_text,\n",
    "                             info_dataset,\n",
    "                            ),\n",
    "                      pn.Row(pn.Column(plot_bar(df_test, 152, 10, 3, max_val[152]), \n",
    "                                       plot_bar(df_test, 88, 10, 3, max_val[88])),\n",
    "                             pn.Column(plot_scatter(mono_pitches_pred, mono_pitches, 6, 6)),\n",
    "                             pn.Column(plot_box(mono_score, poly_score, 4, 4), f1_table),\n",
    "                            ),\n",
    "                     )\n",
    " \n",
    "dashboard.show()\n",
    "#dashboard.servable()"
   ]
  },
  {
   "cell_type": "code",
   "execution_count": null,
   "metadata": {},
   "outputs": [],
   "source": []
  },
  {
   "cell_type": "code",
   "execution_count": null,
   "metadata": {},
   "outputs": [],
   "source": []
  },
  {
   "cell_type": "code",
   "execution_count": null,
   "metadata": {},
   "outputs": [],
   "source": [
    "goal = np.array([1, 0, 0, 0, 1])\n",
    "bla = np.array([0, 0, 0, 0, 0])\n",
    "#blabla = goal - bla\n",
    "#blabla\n",
    "metric(goal, bla)"
   ]
  },
  {
   "cell_type": "code",
   "execution_count": null,
   "metadata": {},
   "outputs": [],
   "source": []
  }
 ],
 "metadata": {
  "kernelspec": {
   "display_name": "Python 3",
   "language": "python",
   "name": "python3"
  },
  "language_info": {
   "codemirror_mode": {
    "name": "ipython",
    "version": 3
   },
   "file_extension": ".py",
   "mimetype": "text/x-python",
   "name": "python",
   "nbconvert_exporter": "python",
   "pygments_lexer": "ipython3",
   "version": "3.7.5"
  }
 },
 "nbformat": 4,
 "nbformat_minor": 2
}
