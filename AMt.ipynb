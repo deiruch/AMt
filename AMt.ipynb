{
 "cells": [
  {
   "cell_type": "code",
   "execution_count": null,
   "metadata": {},
   "outputs": [],
   "source": [
    "#https://www.dummies.com/programming/python/plotting-a-sound-file-in-ipython/\n",
    "import matplotlib.pyplot as plt\n",
    "from scipy.io import wavfile as wav\n",
    "from scipy.fftpack import fft\n",
    "import numpy as np\n",
    "from gurobipy import *\n",
    "from IPython.display import Audio\n",
    "import os\n",
    "import glob\n",
    "import untangle\n",
    "\n",
    "import xml.etree.ElementTree as et\n",
    "import pandas as pd\n",
    "import re"
   ]
  },
  {
   "cell_type": "markdown",
   "metadata": {},
   "source": [
    "# Functions"
   ]
  },
  {
   "cell_type": "code",
   "execution_count": null,
   "metadata": {},
   "outputs": [],
   "source": [
    "# Function for transforming a signal with fourier\n",
    "def fourier_trans(data, rate, begin_time, end_time): \n",
    "    # initialising variables\n",
    "    tp_count = len(data)\n",
    "    values = np.arange(int(tp_count/2))\n",
    "    time_period = tp_count/rate\n",
    "    frequencies = values/time_period\n",
    "    \n",
    "    #at what intervals time points are sampled\n",
    "    sampling_interval = 1/rate;\n",
    "    \n",
    "    #time points\n",
    "    time = np.arange(begin_time, end_time, sampling_interval);\n",
    "    \n",
    "    #Frequency domain representation\n",
    "    fourier_transform = fft(data)/tp_count #normalized the amplitude\n",
    "    fourier_transform = fourier_transform[range(int(len(data)/2))] #exclude sampling frequency   \n",
    "    return frequencies, abs(fourier_transform)\n",
    "\n",
    "# TODO: Funktion überarbeiten damit man es auch versteht!\n",
    "def new_fft(data, rate):\n",
    "    N = len(data)\n",
    "\n",
    "    # sample spacing\n",
    "    T = 1.0 / rate\n",
    "    x = np.linspace(0.0, N*T, N)\n",
    "\n",
    "    yf = fft(data)\n",
    "    freq = np.linspace(0.0, 1.0/(2.0*T), N//2)\n",
    "    ampl = 2.0/N * np.abs(yf[0:N//2])\n",
    "    return freq, ampl\n",
    "\n",
    "# Frequency domain representation\n",
    "def plot_freq_domain(freq, fourier, name):\n",
    "    plt.figure(figsize=(20,5))\n",
    "    plt.plot(freq, fourier)\n",
    "    plt.xlabel('Frequency in Hz')\n",
    "    plt.ylabel('Amplitude')\n",
    "    plt.xlim(0, 1400)\n",
    "    plt.title(name)\n",
    "    plt.show()\n",
    "\n",
    "# TODO: Warnung herausgeben wenn bei der Teilung der Samplerate eine Fliesskommazahl entsteht\n",
    "def easy_downsampling(data, rate, sampl_fac):\n",
    "    ds_data = []\n",
    "    for i in range(len(data)):\n",
    "        if (i%sampl_fac == 0):\n",
    "            ds_data.append(data[i])\n",
    "    ds_rate = int(rate/sampl_fac)\n",
    "    return ds_data, ds_rate\n",
    "\n",
    "#ToDo: startwert von 0 nicht möglich überarbeiten!!\n",
    "def snip_wav(data, rate, start_sec, end_sec):\n",
    "    start_point = int((rate * start_sec)-1)\n",
    "    end_point = int((rate * end_sec)-1)\n",
    "    #print('start_point:', start_point)\n",
    "    #print('end_point:', end_point)\n",
    "    snip_data = data[start_point:end_point]\n",
    "    #print(snip_data)  \n",
    "    return snip_data, rate\n",
    "\n",
    "def metric(target_v, approx_v):\n",
    "    norm_factor = np.linalg.norm(approx_v)\n",
    "    if (norm_factor != 0):\n",
    "        norm_v = approx_v/norm_factor\n",
    "        diff = target_v - norm_v\n",
    "        diff_sum = np.sum(np.abs(diff))\n",
    "        return diff_sum\n",
    "    else:\n",
    "        print('Der Vektor kann nicht normalisiert werden.')\n",
    "        return approx_v "
   ]
  },
  {
   "cell_type": "markdown",
   "metadata": {},
   "source": [
    "## Dataframe "
   ]
  },
  {
   "cell_type": "code",
   "execution_count": null,
   "metadata": {
    "scrolled": false
   },
   "outputs": [],
   "source": [
    "def read_xml_to_df(path, df_cols, offset_sec, duration_sec, sampl_fac):\n",
    "    dataset = re.search(r'dataset.*\\b', path).group(0)\n",
    "    path_xml = path + \"annotation\"\n",
    "    path_wav = path + \"audio\"  \n",
    "    rows = []\n",
    "    \n",
    "    for xml_file in sorted(glob.glob(os.path.join(path_xml, '*.xml'))):\n",
    "        tree = et.parse(xml_file)\n",
    "        root = tree.getroot()\n",
    "       \n",
    "        for globalParam in root.findall('globalParameter'):\n",
    "            audio_file = globalParam.find('audioFileName').text\n",
    "            \n",
    "            # Read wav-file\n",
    "            wav_file = path_wav + '/' + audio_file\n",
    "            rate, data = wav.read(wav_file)\n",
    "\n",
    "        for transcription in root.findall('transcription'):\n",
    "\n",
    "            for event in transcription.findall('event'):\n",
    "                res = []\n",
    "                res.append(dataset)\n",
    "                res.append(audio_file)\n",
    "\n",
    "                for elem in df_cols[len(res):]:\n",
    "                    if event is not None:\n",
    "                        if event.find(elem) is not None:\n",
    "                            res.append(event.find(elem).text)\n",
    "                            \n",
    "                            if elem == 'onsetSec':\n",
    "                                onsetSec = event.find(elem).text\n",
    "                                start_sec = round(offset_sec + float(onsetSec), 3)\n",
    "                                end_sec = round(start_sec + duration_sec, 3)\n",
    "\n",
    "                                # Snip and downsampling audio-file\n",
    "                                data_snip, rate_snip = snip_wav(data, rate, start_sec, end_sec)\n",
    "                                data_down, rate_down = easy_downsampling(data_snip, rate_snip, sampl_fac)\n",
    "                                \n",
    "                                # Calc FFT\n",
    "                                freq, fourier = new_fft(data_down, rate_down)\n",
    "                                                       \n",
    "                        elif elem == 'FFT':\n",
    "                            res.append(fourier)\n",
    "\n",
    "                        elif elem == 'Freq':\n",
    "                            res.append(freq)\n",
    "                        else:\n",
    "                            res.append(None)\n",
    "                    else:\n",
    "                        res.append(None)\n",
    "\n",
    "                rows.append({df_cols[i]: res[i] for i, _ in enumerate(df_cols)})\n",
    "\n",
    "    return pd.DataFrame(rows, columns=df_cols)"
   ]
  },
  {
   "cell_type": "markdown",
   "metadata": {},
   "source": [
    "# Init Dataframe"
   ]
  },
  {
   "cell_type": "code",
   "execution_count": null,
   "metadata": {},
   "outputs": [],
   "source": [
    "# Set audio snippets and sample compression\n",
    "offset_sec = 0.01\n",
    "duration_sec = 0.03\n",
    "sampl_fac = 4\n",
    "\n",
    "# Create empty Dataframe\n",
    "df_cols = ['dataset', 'audioFileName', 'pitch', 'onsetSec', 'FFT', 'Freq']\n",
    "df_ref = pd.DataFrame(columns=df_cols)\n",
    "df_test = pd.DataFrame(columns=df_cols)"
   ]
  },
  {
   "cell_type": "markdown",
   "metadata": {},
   "source": [
    "# Create Dataframe with reference tones"
   ]
  },
  {
   "cell_type": "code",
   "execution_count": null,
   "metadata": {},
   "outputs": [],
   "source": [
    "%%time\n",
    "# paths\n",
    "path_main = \"IDMT-SMT-GUITAR_V2/\"\n",
    "path_main_ref = path_main + \"dataset1/Fender Strat Clean Neck SC/\"\n",
    "\n",
    "df_ref = read_xml_to_df(path_main_ref, df_cols, offset_sec, duration_sec, sampl_fac)\n",
    "df_ref"
   ]
  },
  {
   "cell_type": "markdown",
   "metadata": {},
   "source": [
    "# Create Dataframe with testdatas"
   ]
  },
  {
   "cell_type": "code",
   "execution_count": null,
   "metadata": {},
   "outputs": [],
   "source": [
    "%%time\n",
    "# paths testdata\n",
    "# ToDO: Automatisieren #os.listdir(path_main + path_dataset)\n",
    "\n",
    "path_testdata = [\n",
    "    path_main + 'dataset1/Fender Strat Clean Neck SC/',\n",
    "    path_main + 'dataset1/Fender Strat Clean Neck SC Chords/',\n",
    "    path_main + 'dataset1/Ibanez Power Strat Clean Bridge HU/',\n",
    "    path_main + 'dataset1/Ibanez Power Strat Clean Bridge HU Chords/',\n",
    "    path_main + 'dataset1/Ibanez Power Strat Clean Bridge+Neck SC/',\n",
    "    path_main + 'dataset1/Ibanez Power Strat Clean Neck HU/',\n",
    "    path_main + 'dataset2/']\n",
    "\n",
    "for path in path_testdata[:6]:\n",
    "    df_act = read_xml_to_df(path, df_cols, offset_sec, duration_sec, sampl_fac)\n",
    "    df_test = df_test.append(df_act, ignore_index=True)\n",
    "df_test"
   ]
  },
  {
   "cell_type": "code",
   "execution_count": null,
   "metadata": {},
   "outputs": [],
   "source": [
    "plot_freq_domain(df_ref.Freq[5], df_ref.FFT[5], df_ref.pitch[5])"
   ]
  },
  {
   "cell_type": "code",
   "execution_count": null,
   "metadata": {},
   "outputs": [],
   "source": [
    "plot_freq_domain(df_ref.Freq[6], df_ref.FFT[6], df_ref.pitch[6])"
   ]
  },
  {
   "cell_type": "code",
   "execution_count": null,
   "metadata": {},
   "outputs": [],
   "source": [
    "plot_freq_domain(df_test.Freq[115], df_test.FFT[115], df_test.audioFileName[115])"
   ]
  },
  {
   "cell_type": "markdown",
   "metadata": {},
   "source": [
    "# Gurobi"
   ]
  },
  {
   "cell_type": "code",
   "execution_count": null,
   "metadata": {},
   "outputs": [],
   "source": [
    "# Build Model\n",
    "m = Model('AMt')\n",
    "\n",
    "lambs = []\n",
    "for lamb in range(len(df_ref)):\n",
    "    lambs.append(m.addVar(lb = 0, vtype = GRB.CONTINUOUS, name = 'lamb_' + str(lamb)))\n",
    "m.update()"
   ]
  },
  {
   "cell_type": "code",
   "execution_count": null,
   "metadata": {},
   "outputs": [],
   "source": [
    "'''\n",
    "%%time\n",
    "#Optimize Signal\n",
    "\n",
    "deviation = 0\n",
    "approxi_sgn = 0\n",
    " \n",
    "for sgn in range(len(mischsignal)):\n",
    "#for sgn in range(100):\n",
    "    for lamb in range(len(lambs)):\n",
    "        approxi_sgn += lambs[lamb] * ref_note[lamb]['fourier'][sgn]\n",
    "        \n",
    "    deviation += ((mischsignal[sgn] - approxi_sgn)*(mischsignal[sgn] - approxi_sgn))\n",
    "    # deviation wird ausmultipliziert stattdessen die für 'mischsignal[sgn] - approxi_sgn'\n",
    "    # eine Gurobi-Variable (m.addVar  inkl. constr.) verwenden\n",
    "    # Überprüfen ob der Betrag der Differenz besser geeignet ist?\n",
    "print('Deviation is calculated.')\n",
    "'''"
   ]
  },
  {
   "cell_type": "code",
   "execution_count": null,
   "metadata": {},
   "outputs": [],
   "source": [
    "%%time\n",
    "vec_pred = []\n",
    "\n",
    "for index, row in df_test.iterrows():\n",
    "    mischsignal = row.FFT\n",
    "    #print(row.audioFileName)\n",
    "\n",
    "\n",
    "    # Schlaufen vertauscht\n",
    "    cost_function = 0\n",
    "    approxi_sgn = 0\n",
    "\n",
    "    for lamb in range(len(lambs)):\n",
    "        la = lambs[lamb]\n",
    "        #print('la:', la)\n",
    "        #note = ref_note[lamb]['fourier']\n",
    "        note = df_ref.FFT[lamb]\n",
    "\n",
    "        for sgn in range(len(mischsignal)):\n",
    "            approxi_sgn = la * note[sgn]\n",
    "            mi = mischsignal[sgn]\n",
    "            cost_function += ((mi - approxi_sgn)*(mi - approxi_sgn))\n",
    "    #print('Cost Function is created')\n",
    "\n",
    "    m.params.outputflag = 0 # Infotext ausblenden\n",
    "    m.setObjective(cost_function, GRB.MINIMIZE)\n",
    "    m.optimize()\n",
    "\n",
    "\n",
    "\n",
    "    approx_v = []\n",
    "\n",
    "    for v in m.getVars():\n",
    "        #print('%s: %g' % (v.varName, v.x))\n",
    "        approx_v.append(v.x)\n",
    "\n",
    "    vec_pred.append(approx_v)"
   ]
  },
  {
   "cell_type": "code",
   "execution_count": null,
   "metadata": {},
   "outputs": [],
   "source": [
    "len(vec_pred)"
   ]
  },
  {
   "cell_type": "code",
   "execution_count": null,
   "metadata": {
    "scrolled": false
   },
   "outputs": [],
   "source": [
    "df_test['Vec_Pred'] = vec_pred\n",
    "df_test"
   ]
  },
  {
   "cell_type": "markdown",
   "metadata": {},
   "source": [
    "# Metrik berechnen"
   ]
  },
  {
   "cell_type": "code",
   "execution_count": null,
   "metadata": {},
   "outputs": [],
   "source": [
    "target_v = np.zeros(78,dtype=int)\n",
    "target_v[0] = 1"
   ]
  },
  {
   "cell_type": "code",
   "execution_count": null,
   "metadata": {},
   "outputs": [],
   "source": [
    "metric(target_v, approx_v)"
   ]
  },
  {
   "cell_type": "code",
   "execution_count": null,
   "metadata": {},
   "outputs": [],
   "source": []
  }
 ],
 "metadata": {
  "kernelspec": {
   "display_name": "Python 3",
   "language": "python",
   "name": "python3"
  },
  "language_info": {
   "codemirror_mode": {
    "name": "ipython",
    "version": 3
   },
   "file_extension": ".py",
   "mimetype": "text/x-python",
   "name": "python",
   "nbconvert_exporter": "python",
   "pygments_lexer": "ipython3",
   "version": "3.7.4"
  }
 },
 "nbformat": 4,
 "nbformat_minor": 2
}
