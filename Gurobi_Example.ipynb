{
 "cells": [
  {
   "cell_type": "code",
   "execution_count": null,
   "metadata": {},
   "outputs": [],
   "source": [
    "from gurobipy import *\n",
    "m = Model()\n",
    "v0 = m.addVar()\n",
    "v1 = m.addVar()\n",
    "m.update()\n",
    "m.addConstr(v0-v1 <= 4)\n",
    "m.addConstr(v0 + v1 <= 4)\n",
    "m.addConstr(-0.25*v0 + v1 <= 1)\n",
    "m.setObjective(v1, GRB.MAXIMIZE)\n",
    "m.params.outputflag = 0\n",
    "m.optimize()"
   ]
  },
  {
   "cell_type": "code",
   "execution_count": null,
   "metadata": {},
   "outputs": [],
   "source": [
    "import matplotlib.pyplot as pyplot\n",
    "pyplot.plot([0,4], [0,4])\n",
    "pyplot.plot([4,0], [0,4])\n",
    "pyplot.plot([0,4], [1,2])\n",
    "pyplot.plot([v0.x], [v1.x], 'ro')\n",
    "pyplot.show()"
   ]
  },
  {
   "cell_type": "code",
   "execution_count": null,
   "metadata": {},
   "outputs": [],
   "source": []
  }
 ],
 "metadata": {
  "kernelspec": {
   "display_name": "Python 3",
   "language": "python",
   "name": "python3"
  },
  "language_info": {
   "codemirror_mode": {
    "name": "ipython",
    "version": 3
   },
   "file_extension": ".py",
   "mimetype": "text/x-python",
   "name": "python",
   "nbconvert_exporter": "python",
   "pygments_lexer": "ipython3",
   "version": "3.7.4"
  }
 },
 "nbformat": 4,
 "nbformat_minor": 2
}
